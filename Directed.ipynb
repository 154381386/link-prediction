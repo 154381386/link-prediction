{
 "cells": [
  {
   "cell_type": "code",
   "execution_count": 11,
   "metadata": {
    "collapsed": true,
    "deletable": true,
    "editable": true
   },
   "outputs": [],
   "source": [
    "file = 'data/directed/ego-twitter/train.in'\n",
    "N = 10"
   ]
  },
  {
   "cell_type": "code",
   "execution_count": 12,
   "metadata": {
    "collapsed": true,
    "deletable": true,
    "editable": true
   },
   "outputs": [],
   "source": [
    "import tools"
   ]
  },
  {
   "cell_type": "code",
   "execution_count": 13,
   "metadata": {
    "collapsed": false,
    "deletable": true,
    "editable": true
   },
   "outputs": [],
   "source": [
    "train_set, nodes, poss_set, neg_set = tools.sample_structural(file, N, directed=True)"
   ]
  },
  {
   "cell_type": "code",
   "execution_count": 14,
   "metadata": {
    "collapsed": false,
    "deletable": true,
    "editable": true
   },
   "outputs": [
    {
     "data": {
      "text/plain": [
       "<generator object <genexpr> at 0x7fa0c7b42b40>"
      ]
     },
     "execution_count": 14,
     "metadata": {},
     "output_type": "execute_result"
    }
   ],
   "source": [
    "from graph_tool.all import *\n",
    "g = Graph(directed=False)\n",
    "g.add_vertex(2*max(nodes) + 1)"
   ]
  },
  {
   "cell_type": "code",
   "execution_count": 15,
   "metadata": {
    "collapsed": false,
    "deletable": true,
    "editable": true
   },
   "outputs": [
    {
     "name": "stdout",
     "output_type": "stream",
     "text": [
      "46741\n"
     ]
    }
   ],
   "source": [
    "print 2*max(nodes) + 1"
   ]
  },
  {
   "cell_type": "code",
   "execution_count": 16,
   "metadata": {
    "collapsed": false
   },
   "outputs": [],
   "source": [
    "groups = g.new_vertex_property(\"int\")\n",
    "\n",
    "for u in g.vertices():\n",
    "    groups[u] = int(u) % 2"
   ]
  },
  {
   "cell_type": "code",
   "execution_count": 17,
   "metadata": {
    "collapsed": false,
    "deletable": true,
    "editable": true
   },
   "outputs": [
    {
     "name": "stdout",
     "output_type": "stream",
     "text": [
      "436\n"
     ]
    }
   ],
   "source": [
    "s = 0\n",
    "for edge in train_set:\n",
    "    if edge not in poss_set:\n",
    "        u, w = map(int, edge.split())\n",
    "        if (str(w) + ' ' + str(u) in train_set) and (str(w) + ' ' + str(u) not in poss_set):\n",
    "            g.add_edge(g.vertex(2*u - 1), g.vertex(2*w - 1))\n",
    "            g.add_edge(g.vertex(2*u), g.vertex(2*w))\n",
    "            s += 1\n",
    "        g.add_edge(g.vertex(2*u - 1), g.vertex(2*w))\n",
    "print s"
   ]
  },
  {
   "cell_type": "code",
   "execution_count": 18,
   "metadata": {
    "collapsed": false,
    "deletable": true,
    "editable": true
   },
   "outputs": [],
   "source": [
    "pos = sfdp_layout(g, max_iter=4)"
   ]
  },
  {
   "cell_type": "code",
   "execution_count": 19,
   "metadata": {
    "collapsed": true,
    "deletable": true,
    "editable": true
   },
   "outputs": [],
   "source": [
    "from sklearn.metrics import roc_auc_score"
   ]
  },
  {
   "cell_type": "code",
   "execution_count": 20,
   "metadata": {
    "collapsed": false,
    "deletable": true,
    "editable": true
   },
   "outputs": [
    {
     "data": {
      "text/plain": [
       "0.7180809777201741"
      ]
     },
     "execution_count": 20,
     "metadata": {},
     "output_type": "execute_result"
    }
   ],
   "source": [
    "features = tools.TopologicalFeatures(g, pos, directed=True, gap=0)\n",
    "X, Y = tools.make_dataset(poss_set, neg_set, \n",
    "                    [features.dist])\n",
    "roc_auc_score(Y, X)"
   ]
  },
  {
   "cell_type": "code",
   "execution_count": null,
   "metadata": {
    "collapsed": false,
    "deletable": true,
    "editable": true
   },
   "outputs": [],
   "source": [
    "from graph_tool.all import *\n",
    "g = Graph(directed=False)\n",
    "g.add_vertex(max(nodes) + 1)\n",
    "\n",
    "for edge in train_set:\n",
    "    if edge not in poss_set:\n",
    "        u, w = map(int, edge.split())\n",
    "        g.add_edge(g.vertex(u), g.vertex(w))\n",
    "\n",
    "\n",
    "features = tools.TopologicalFeatures(g)\n",
    "X, Y = tools.make_dataset(poss_set, neg_set, \n",
    "                    [features.preferential_attachment])\n",
    "roc_auc_score(Y, X)"
   ]
  },
  {
   "cell_type": "code",
   "execution_count": null,
   "metadata": {
    "collapsed": false,
    "deletable": true,
    "editable": true
   },
   "outputs": [],
   "source": [
    "from sklearn.metrics import roc_auc_score"
   ]
  },
  {
   "cell_type": "code",
   "execution_count": null,
   "metadata": {
    "collapsed": false,
    "deletable": true,
    "editable": true
   },
   "outputs": [],
   "source": [
    "from sklearn.decomposition import NMF\n",
    "model = NMF(n_components=10, init='random', random_state=0)\n",
    "\n",
    "matrix = tools.make_sparse_matrix(train_set, nodes, poss_set, directed=True)\n",
    "\n",
    "features = tools.MFFeatures(model, matrix)\n",
    "X, Y = tools.make_dataset(poss_set, neg_set, \n",
    "                    [features.score])\n",
    "roc_auc_score(Y, X)"
   ]
  },
  {
   "cell_type": "code",
   "execution_count": null,
   "metadata": {
    "collapsed": false,
    "deletable": true,
    "editable": true
   },
   "outputs": [],
   "source": [
    "from scipy.sparse import linalg\n",
    "import numpy\n",
    "\n",
    "matrix = tools.make_sparse_matrix(train_set, nodes, poss_set, directed=True)\n",
    "U, s, Vh = linalg.svds(matrix.asfptype(), k=30)\n",
    "\n",
    "def score(u, w):\n",
    "    return numpy.dot(U[u] * s, Vh.T[w])\n",
    "\n",
    "X, Y = tools.make_dataset(poss_set, neg_set, \n",
    "                    [score])\n",
    "roc_auc_score(Y, X)"
   ]
  },
  {
   "cell_type": "markdown",
   "metadata": {},
   "source": [
    "# Auto cross-validation"
   ]
  },
  {
   "cell_type": "code",
   "execution_count": 1,
   "metadata": {
    "collapsed": false,
    "deletable": true,
    "editable": true
   },
   "outputs": [
    {
     "name": "stdout",
     "output_type": "stream",
     "text": [
      "Positioning level: 0 46741 with K = 112.125313443 ...\n",
      "avg edge distance: 230.183027127\n",
      "gap 0\n",
      "sfdp-bipartite-repulse-allrepulse-all : nan (+/- nan)\n",
      "PA : 0.50 (+/- 0.00)\n",
      "sfdp-bipartite-repulse-fellowsrepulse-fellows : nan (+/- nan)\n",
      "NMF-10 : 0.70 (+/- 0.00)\n",
      "sfdp-bipartite-repulse-fellowsrepulse-all : nan (+/- nan)\n",
      "sfdp-bipartite-repulse-aliensrepulse-aliens : nan (+/- nan)\n",
      "sfdp-directed : 0.79 (+/- 0.00)\n",
      "svds-30 : 0.69 (+/- 0.00)\n",
      "sfdp-bipartite-repulse-allrepulse-fellows : nan (+/- nan)\n",
      "sfdp-bipartite-repulse-aliensrepulse-all : nan (+/- nan)\n",
      "sfdp-bipartite-repulse-aliensrepulse-fellows : nan (+/- nan)\n",
      "sfdp-bipartite-repulse-allrepulse-aliens : nan (+/- nan)\n",
      "sfdp-bipartite-repulse-fellowsrepulse-aliens : nan (+/- nan)\n",
      "sfdp-default : 0.50 (+/- 0.00)\n"
     ]
    },
    {
     "name": "stderr",
     "output_type": "stream",
     "text": [
      "/usr/lib/python2.7/dist-packages/numpy/core/_methods.py:59: RuntimeWarning: Mean of empty slice.\n",
      "  warnings.warn(\"Mean of empty slice.\", RuntimeWarning)\n",
      "/usr/lib/python2.7/dist-packages/numpy/core/_methods.py:70: RuntimeWarning: invalid value encountered in double_scalars\n",
      "  ret = ret.dtype.type(ret / rcount)\n",
      "/usr/lib/python2.7/dist-packages/numpy/core/_methods.py:82: RuntimeWarning: Degrees of freedom <= 0 for slice\n",
      "  warnings.warn(\"Degrees of freedom <= 0 for slice\", RuntimeWarning)\n",
      "/usr/lib/python2.7/dist-packages/numpy/core/_methods.py:94: RuntimeWarning: invalid value encountered in true_divide\n",
      "  arrmean, rcount, out=arrmean, casting='unsafe', subok=False)\n",
      "/usr/lib/python2.7/dist-packages/numpy/core/_methods.py:116: RuntimeWarning: invalid value encountered in double_scalars\n",
      "  ret = ret.dtype.type(ret / rcount)\n"
     ]
    }
   ],
   "source": [
    "import cross_validation\n",
    "\n",
    "file = 'data/directed/ego-twitter/train.in'\n",
    "N = 10\n",
    "cross_validation.cross_validation(file, N, 1, directed=True, max_iter=4, gap=0, verbose=True)"
   ]
  },
  {
   "cell_type": "code",
   "execution_count": null,
   "metadata": {
    "collapsed": true
   },
   "outputs": [],
   "source": []
  }
 ],
 "metadata": {
  "kernelspec": {
   "display_name": "Python 2",
   "language": "python",
   "name": "python2"
  },
  "language_info": {
   "codemirror_mode": {
    "name": "ipython",
    "version": 2
   },
   "file_extension": ".py",
   "mimetype": "text/x-python",
   "name": "python",
   "nbconvert_exporter": "python",
   "pygments_lexer": "ipython2",
   "version": "2.7.12"
  }
 },
 "nbformat": 4,
 "nbformat_minor": 1
}
