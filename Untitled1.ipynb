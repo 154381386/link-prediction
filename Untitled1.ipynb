{
 "cells": [
  {
   "cell_type": "code",
   "execution_count": 1,
   "metadata": {
    "collapsed": false,
    "deletable": true,
    "editable": true
   },
   "outputs": [
    {
     "name": "stdout",
     "output_type": "stream",
     "text": [
      "Airport_logs.txt\t\t\t       Sample structural dataset.ipynb\r\n",
      "Airport_p_1.txt\t\t\t\t       Untitled.ipynb\r\n",
      "Airportp3.txt\t\t\t\t       Untitled1.ipynb\r\n",
      "Bipartite.ipynb\t\t\t\t       ca-cit-HepTh-logs.txt\r\n",
      "Ca-HelpTh.txt\t\t\t\t       cross_validation\r\n",
      "Ca-HelpTh_p3.txt\t\t\t       cross_validation.py\r\n",
      "Ca-HelpTh_p_1.txt\t\t\t       cross_validation.pyc\r\n",
      "Degeneration.ipynb\t\t\t       data\r\n",
      "Directed.ipynb\t\t\t\t       directed\r\n",
      "Disbalance comp analys.ipynb\t\t       facebook_logs.txt\r\n",
      "Disbalance dist analys.ipynb\t\t       graph_tools_patch\r\n",
      "Draw.ipynb\t\t\t\t       high dimensions\r\n",
      "Euroroad-p3.txt\t\t\t\t       node2vec.in\r\n",
      "Euroroad_logs.txt\t\t\t       node2vec.out\r\n",
      "Euroroad_p_1.txt\t\t\t       p-figure\r\n",
      "New experiment with node2vec idea-Copy1.ipynb  p-figure-reactome\r\n",
      "New experiment with node2vec idea.ipynb        pickled_objs\r\n",
      "Node2Vec.ipynb\t\t\t\t       reactome_logs.txt\r\n",
      "PowerGrid_logs.txt\t\t\t       save_sample.py\r\n",
      "PowerGrid_p1.txt\t\t\t       save_sample.pyc\r\n",
      "PowerGridp3.txt\t\t\t\t       tools.py\r\n",
      "Predict DBPL-Small.ipynb\t\t       tools.pyc\r\n",
      "Predict DBPL.ipynb\t\t\t       untitled.txt\r\n"
     ]
    }
   ],
   "source": [
    "! ls"
   ]
  },
  {
   "cell_type": "code",
   "execution_count": 81,
   "metadata": {
    "collapsed": true,
    "deletable": true,
    "editable": true
   },
   "outputs": [],
   "source": [
    "CA = {\n",
    "  \"N\": 10,\n",
    "  \"auc\": {\n",
    "    \"sfdp-default-0.6\": [\n",
    "      0.90877260015608741,\n",
    "      0.91698198491155058,\n",
    "      0.91315264047866807\n",
    "    ],\n",
    "    \"sfdp-default-0.8\": [\n",
    "      0.90749609781477625,\n",
    "      0.91888299947970864,\n",
    "      0.90896705905306985\n",
    "    ],\n",
    "    \"sfdp-default-1.0\": [\n",
    "      0.91567442767950058,\n",
    "      0.92027933142559837,\n",
    "      0.91609179890738823\n",
    "    ],\n",
    "    \"sfdp-default-1.2\": [\n",
    "      0.91574450442247668,\n",
    "      0.9221676638917794,\n",
    "      0.91312678850156093\n",
    "    ],\n",
    "    \"sfdp-default-1.4\": [\n",
    "      0.91772274973985435,\n",
    "      0.92354952523413114,\n",
    "      0.91452312044745054\n",
    "    ],\n",
    "    \"sfdp-default-1.6\": [\n",
    "      0.91844953173777311,\n",
    "      0.92237122788761694,\n",
    "      0.91660412330905305\n",
    "    ],\n",
    "    \"sfdp-default-1.8\": [\n",
    "      0.91971205124869926,\n",
    "      0.92156250000000006,\n",
    "      0.91342823231009362\n",
    "    ],\n",
    "    \"sfdp-default-2.0\": [\n",
    "      0.9151795005202914,\n",
    "      0.91637568288241411,\n",
    "      0.91434085587929226\n",
    "    ],\n",
    "    \"sfdp-default-2.2\": [\n",
    "      0.91401860041623306,\n",
    "      0.91409778225806448,\n",
    "      0.91157258064516111\n",
    "    ],\n",
    "    \"sfdp-default-2.4\": [\n",
    "      0.88849343132154002,\n",
    "      0.88171940036420393,\n",
    "      0.89409192898022904\n",
    "    ],\n",
    "    \"sfdp-default-2.6\": [\n",
    "      0.79395388917793963,\n",
    "      0.80503284339229964,\n",
    "      0.80869488163371495\n",
    "    ],\n",
    "    \"sfdp-default-2.8\": [\n",
    "      0.74376333246618098,\n",
    "      0.74686508194588974,\n",
    "      0.74204523283038504\n",
    "    ],\n",
    "    \"sfdp-default-3.0\": [\n",
    "      0.69491724115504683,\n",
    "      0.6950326808012488,\n",
    "      0.70022405046826219\n",
    "    ],\n",
    "    \"sfdp-default-3.2\": [\n",
    "      0.66375536550468262,\n",
    "      0.67880007804370446,\n",
    "      0.67936264308012495\n",
    "    ]\n",
    "  },\n",
    "  \"file\": \"data/structral/Ca-HelpTh/train.in\",\n",
    "  \"gap\": 0,\n",
    "  \"k\": 3,\n",
    "  \"max_iter\": 0,\n",
    "  \"p\": [\n",
    "    0.6,\n",
    "    0.8,\n",
    "    1.0,\n",
    "    1.2,\n",
    "    1.4,\n",
    "    1.6,\n",
    "    1.8,\n",
    "    2.0,\n",
    "    2.2,\n",
    "    2.4,\n",
    "    2.6,\n",
    "    2.8,\n",
    "    3.0,\n",
    "    3.2\n",
    "  ]\n",
    "}"
   ]
  },
  {
   "cell_type": "code",
   "execution_count": 82,
   "metadata": {
    "collapsed": false,
    "deletable": true,
    "editable": true
   },
   "outputs": [],
   "source": [
    "JS = {\n",
    "  \"N\": 30,\n",
    "  \"auc\": {\n",
    "    \"sfdp-default-0.6\": [\n",
    "      0.98091031686280794,\n",
    "      0.98077626938240248,\n",
    "      0.98058513654308144\n",
    "    ],\n",
    "    \"sfdp-default-0.8\": [\n",
    "      0.98187634957683834,\n",
    "      0.98137293998181374,\n",
    "      0.98207032641180925\n",
    "    ],\n",
    "    \"sfdp-default-1\": [\n",
    "      0.98295930390354158,\n",
    "      0.98228719512325013,\n",
    "      0.98272495980624852\n",
    "    ],\n",
    "    \"sfdp-default-1.2\": [\n",
    "      0.9832820453981761,\n",
    "      0.9826916853692147,\n",
    "      0.9834954501353983\n",
    "    ],\n",
    "    \"sfdp-default-1.4\": [\n",
    "      0.98336771790648903,\n",
    "      0.98273005538514047,\n",
    "      0.98307608352447806\n",
    "    ],\n",
    "    \"sfdp-default-1.6\": [\n",
    "      0.98348644276219721,\n",
    "      0.98263557366791732,\n",
    "      0.98359078380303744\n",
    "    ],\n",
    "    \"sfdp-default-1.8\": [\n",
    "      0.98260241989785357,\n",
    "      0.98314829126333514,\n",
    "      0.9830857264797358\n",
    "    ],\n",
    "    \"sfdp-default-2\": [\n",
    "      0.98330489462511361,\n",
    "      0.98204519283430591,\n",
    "      0.98256977428136505\n",
    "    ],\n",
    "    \"sfdp-default-2.2\": [\n",
    "      0.98257949681440859,\n",
    "      0.98199726776276874,\n",
    "      0.98210849046170057\n",
    "    ],\n",
    "    \"sfdp-default-2.4\": [\n",
    "      0.9802972069491126,\n",
    "      0.98037821037385753,\n",
    "      0.98055482208762113\n",
    "    ],\n",
    "    \"sfdp-default-2.6\": [\n",
    "      0.96146414604850949,\n",
    "      0.9671377582144165,\n",
    "      0.96816745211709954\n",
    "    ],\n",
    "    \"sfdp-default-2.8\": [\n",
    "      0.86627062685342382,\n",
    "      0.86681299731643313,\n",
    "      0.87056340267423316\n",
    "    ],\n",
    "    \"sfdp-default-3\": [\n",
    "      0.8325650160498721,\n",
    "      0.83352604420535403,\n",
    "      0.83144137823016739\n",
    "    ],\n",
    "    \"sfdp-default-3.2\": [\n",
    "      0.81157190976633853,\n",
    "      0.81379985216465389,\n",
    "      0.81101153964029793\n",
    "    ]\n",
    "  },\n",
    "  \"p\": [\n",
    "    0.6,\n",
    "    0.8,\n",
    "    1,\n",
    "    1.2,\n",
    "    1.4,\n",
    "    1.6,\n",
    "    1.8,\n",
    "    2,\n",
    "    2.2,\n",
    "    2.4,\n",
    "    2.6,\n",
    "    2.8,\n",
    "    3,\n",
    "    3.2\n",
    "  ]\n",
    "}"
   ]
  },
  {
   "cell_type": "code",
   "execution_count": 83,
   "metadata": {
    "collapsed": false,
    "deletable": true,
    "editable": true
   },
   "outputs": [],
   "source": [
    "import numpy as np\n",
    "\n",
    "def parse_json(JS):\n",
    "    X_Y_STD = []\n",
    "    for name in JS['auc']:\n",
    "        values = np.array(JS['auc'][name])\n",
    "        print(name, np.mean(values))\n",
    "\n",
    "        x = float(name[len('sfdp-default-'):])\n",
    "        y = np.mean(values)\n",
    "        std = 2 * np.std(values)\n",
    "\n",
    "        X_Y_STD.append((x, y, std))\n",
    "        \n",
    "    X_Y_STD = sorted(X_Y_STD, key=lambda x: x[0])\n",
    "\n",
    "    X = [x[0] for x in X_Y_STD]\n",
    "    Y = [x[1] for x in X_Y_STD]\n",
    "    STD = [x[2] for x in X_Y_STD]\n",
    "    return X, Y, STD"
   ]
  },
  {
   "cell_type": "code",
   "execution_count": 84,
   "metadata": {
    "collapsed": false,
    "deletable": true,
    "editable": true
   },
   "outputs": [
    {
     "name": "stdout",
     "output_type": "stream",
     "text": [
      "('sfdp-default-2.8', 0.74422454908081859)\n",
      "('sfdp-default-2.4', 0.88810158688865759)\n",
      "('sfdp-default-3.0', 0.69672465747485257)\n",
      "('sfdp-default-2.6', 0.80256053806798466)\n",
      "('sfdp-default-3.2', 0.67397269554283723)\n",
      "('sfdp-default-2.0', 0.91529867976066592)\n",
      "('sfdp-default-2.2', 0.91322965443981963)\n",
      "('sfdp-default-1.8', 0.91823426118626428)\n",
      "('sfdp-default-0.8', 0.91178205211585162)\n",
      "('sfdp-default-0.6', 0.91296907518210213)\n",
      "('sfdp-default-1.2', 0.91701298560527233)\n",
      "('sfdp-default-1.0', 0.91734851933749573)\n",
      "('sfdp-default-1.6', 0.91914162764481444)\n",
      "('sfdp-default-1.4', 0.91859846514047871)\n"
     ]
    }
   ],
   "source": [
    "X_CA, Y_CA, STD_CA = parse_json(CA)"
   ]
  },
  {
   "cell_type": "code",
   "execution_count": 85,
   "metadata": {
    "collapsed": false,
    "deletable": true,
    "editable": true
   },
   "outputs": [
    {
     "data": {
      "image/png": "[encoded data removed]",
      "text/plain": [
       "<matplotlib.figure.Figure at 0x7fb9fcfab950>"
      ]
     },
     "metadata": {},
     "output_type": "display_data"
    }
   ],
   "source": [
    "%matplotlib inline\n",
    "\n",
    "import matplotlib.pyplot as plt\n",
    "\n",
    "plt.plot(X, Y)\n",
    "\n",
    "plt.legend(loc=1)\n",
    "plt.title('Reactome')\n",
    "plt.show()"
   ]
  },
  {
   "cell_type": "code",
   "execution_count": 36,
   "metadata": {
    "collapsed": false,
    "deletable": true,
    "editable": true
   },
   "outputs": [
    {
     "data": {
      "text/plain": [
       "<matplotlib.text.Text at 0x7fb9fc916dd0>"
      ]
     },
     "execution_count": 36,
     "metadata": {},
     "output_type": "execute_result"
    },
    {
     "data": {
      "image/png": "[encoded data removed]",
      "text/plain": [
       "<matplotlib.figure.Figure at 0x7fb9fca0cbd0>"
      ]
     },
     "metadata": {},
     "output_type": "display_data"
    }
   ],
   "source": [
    "import matplotlib.lines as mlines\n",
    "\n",
    "plt.figure(figsize=(15,4))\n",
    "\n",
    "plt.subplot(1,2,1)\n",
    "\n",
    "plt.errorbar(X, Y, yerr=STD, fmt='-o', markersize=3, color='blue')\n",
    "\n",
    "sfdp = mlines.Line2D([], [], color='blue')\n",
    "\n",
    "plt.legend([sfdp], [\"Reactome\"], fontsize = 'large', loc=3)\n",
    "\n",
    "plt.title('Reactome')\n",
    "\n",
    "plt.ylim([0.65, 1])\n",
    "\n",
    "plt.xlabel('Parameter p')\n",
    "plt.ylabel('AUC')\n",
    "\n",
    "plt.subplot(1,2,2)\n",
    "\n",
    "plt.errorbar(X_CA, Y_CA, yerr=STD_CA, fmt='-o', markersize=3, color='blue')\n",
    "\n",
    "sfdp = mlines.Line2D([], [], color='blue')\n",
    "\n",
    "plt.legend([sfdp], [\"Ca-HelpTh\"], fontsize = 'large', loc=3)\n",
    "\n",
    "\n",
    "plt.ylim([0.65, 1])\n",
    "plt.title('Ca-HelpTh')\n",
    "plt.xlabel('Parameter p')\n",
    "plt.ylabel('AUC')"
   ]
  },
  {
   "cell_type": "code",
   "execution_count": 90,
   "metadata": {
    "collapsed": false,
    "deletable": true,
    "editable": true
   },
   "outputs": [
    {
     "data": {
      "image/png": "[encoded data removed]",
      "text/plain": [
       "<matplotlib.figure.Figure at 0x7fb9fbe2da50>"
      ]
     },
     "metadata": {},
     "output_type": "display_data"
    }
   ],
   "source": [
    "import matplotlib.lines as mlines\n",
    "\n",
    "plt.figure(figsize=(6,4))\n",
    "\n",
    "\n",
    "plt.errorbar(X, Y, yerr=STD, fmt='-o', markersize=3, color='blue')\n",
    "plt.errorbar(X_CA, Y_CA, yerr=STD_CA, fmt='--o', markersize=3, color='red')\n",
    "\n",
    "sfdp = mlines.Line2D([], [], color='blue')\n",
    "casfdp = mlines.Line2D([], [], color='red', linestyle='--')\n",
    "\n",
    "plt.legend([sfdp, casfdp], [\"Reactome\", 'Ca-HelpTh'], fontsize = 'large', loc=3)\n",
    "plt.ylim([0.65, 1])\n",
    "\n",
    "plt.xlabel('Parameter p')\n",
    "plt.ylabel('AUC')\n",
    "\n",
    "plt.savefig('parameter_p.pdf', format='pdf')"
   ]
  },
  {
   "cell_type": "code",
   "execution_count": 21,
   "metadata": {
    "collapsed": false,
    "deletable": true,
    "editable": true
   },
   "outputs": [
    {
     "data": {
      "text/plain": [
       "[(0.6, 0.98075724092943062, 0.00026686886468193545),\n",
       " (0.8, 0.98177320532348711, 0.00058780044444807034),\n",
       " (1.0, 0.98265715294434675, 0.00055708977379937384),\n",
       " (1.2, 0.9831563936342631, 0.00067990337386110693),\n",
       " (1.4, 0.98305795227203585, 0.00052128029445329481),\n",
       " (1.6, 0.98323760007771732, 0.00085564573942478197),\n",
       " (1.8, 0.9829454792136415, 0.00048784111798376916),\n",
       " (2.0, 0.98263995391359493, 0.0010333196162865446),\n",
       " (2.2, 0.98222841834629249, 0.00050473673737346967),\n",
       " (2.4, 0.98041007980353045, 0.00021511631153369582),\n",
       " (2.6, 0.96558978546000851, 0.0058947983394607864),\n",
       " (2.8, 0.86788234228136341, 0.0038173656020690696),\n",
       " (3.0, 0.83251081282846451, 0.001703847840572184),\n",
       " (3.2, 0.81212776719043012, 0.0024085430120349425)]"
      ]
     },
     "execution_count": 21,
     "metadata": {},
     "output_type": "execute_result"
    }
   ],
   "source": [
    "X_Y_STD"
   ]
  },
  {
   "cell_type": "code",
   "execution_count": 22,
   "metadata": {
    "collapsed": false,
    "deletable": true,
    "editable": true
   },
   "outputs": [
    {
     "data": {
      "text/plain": [
       "[(0.6, 0.98075724092943062, 0.00026686886468193545),\n",
       " (0.6, 0.98075724092943062, 0.00026686886468193545),\n",
       " (0.6, 0.98075724092943062, 0.00026686886468193545),\n",
       " (0.6, 0.98075724092943062, 0.00026686886468193545),\n",
       " (0.6, 0.98075724092943062, 0.00026686886468193545),\n",
       " (0.6, 0.98075724092943062, 0.00026686886468193545),\n",
       " (0.6, 0.98075724092943062, 0.00026686886468193545),\n",
       " (0.6, 0.98075724092943062, 0.00026686886468193545),\n",
       " (0.6, 0.98075724092943062, 0.00026686886468193545),\n",
       " (0.6, 0.98075724092943062, 0.00026686886468193545),\n",
       " (0.6, 0.98075724092943062, 0.00026686886468193545),\n",
       " (0.6, 0.98075724092943062, 0.00026686886468193545),\n",
       " (0.6, 0.98075724092943062, 0.00026686886468193545),\n",
       " (0.6, 0.98075724092943062, 0.00026686886468193545)]"
      ]
     },
     "execution_count": 22,
     "metadata": {},
     "output_type": "execute_result"
    }
   ],
   "source": [
    "X"
   ]
  },
  {
   "cell_type": "code",
   "execution_count": 129,
   "metadata": {
    "collapsed": true,
    "deletable": true,
    "editable": true
   },
   "outputs": [],
   "source": [
    "JS = {\n",
    "\"auc\": {\n",
    "    \"Adamic-Adar\": [\n",
    "      0.86708388297667038,\n",
    "      0.86487768194327042,\n",
    "      0.86978332492090593\n",
    "    ],\n",
    "    \"CN\": [\n",
    "      0.86694445346983595,\n",
    "      0.8645975677028237,\n",
    "      0.86971531691469017\n",
    "    ],\n",
    "    \"NMF-10\": [\n",
    "      0.80679455519106624,\n",
    "      0.81926939624729811,\n",
    "      0.81332916646205256\n",
    "    ],\n",
    "    \"NMF-30\": [\n",
    "      0.8759189456542974,\n",
    "      0.87758796380922932,\n",
    "      0.88555371421513263\n",
    "    ],\n",
    "    \"Node2Vec-10\": [\n",
    "      0.75646608401628357,\n",
    "      0.75379895287356724,\n",
    "      0.75689410731712148\n",
    "    ],\n",
    "    \"Node2Vec-128\": [\n",
    "      0.88393022737972538,\n",
    "      0.88121940712081315,\n",
    "      0.88437786472776814\n",
    "    ],\n",
    "    \"Node2Vec-20\": [\n",
    "      0.82364246185478707,\n",
    "      0.82684728157884635,\n",
    "      0.82169088221871212\n",
    "    ],\n",
    "    \"Node2Vec-5\": [\n",
    "      0.69285666334245288,\n",
    "      0.67703515290585636,\n",
    "      0.69369770140524545\n",
    "    ],\n",
    "    \"PA\": [\n",
    "      0.78622380845159889,\n",
    "      0.78685743609256675,\n",
    "      0.78659999720779772\n",
    "    ],\n",
    "    \"sfdp-default\": [\n",
    "      0.90638782378732774,\n",
    "      0.90637086468021399,\n",
    "      0.90509645731476718\n",
    "    ],\n",
    "    \"svds-10\": [\n",
    "      0.80450833570818014,\n",
    "      0.81278698976769836,\n",
    "      0.80833084440225123\n",
    "    ],\n",
    "    \"svds-30\": [\n",
    "      0.85205605514083005,\n",
    "      0.84723796197334722,\n",
    "      0.85456837799108132\n",
    "    ]\n",
    "  },\n",
    "}"
   ]
  },
  {
   "cell_type": "code",
   "execution_count": 130,
   "metadata": {
    "collapsed": true,
    "deletable": true,
    "editable": true
   },
   "outputs": [],
   "source": [
    "def parse_json_2(JS):\n",
    "    X_Y_STD = []\n",
    "    for name in JS['auc']:\n",
    "        values = np.array(JS['auc'][name])\n",
    "        x = name\n",
    "        y = round(np.mean(values), 3)\n",
    "        std = round(np.std(values), 3)\n",
    "        \n",
    "        print str(x) + '\t' + str(y) + '\t' +str(std)\n",
    "\n",
    "        X_Y_STD.append((x, y, std))\n",
    "        \n",
    "    X_Y_STD = sorted(X_Y_STD, key=lambda x: x[0])\n",
    "\n",
    "    X = [x[0] for x in X_Y_STD]\n",
    "    Y = np.array([x[1] for x in X_Y_STD])\n",
    "    STD = np.array([x[2] for x in X_Y_STD])\n",
    "    \n",
    "    for y in Y:\n",
    "        print y\n",
    "    print\n",
    "    for std in STD:\n",
    "        print std\n",
    "    return X, Y, STD"
   ]
  },
  {
   "cell_type": "code",
   "execution_count": 131,
   "metadata": {
    "collapsed": false,
    "deletable": true,
    "editable": true
   },
   "outputs": [
    {
     "name": "stdout",
     "output_type": "stream",
     "text": [
      "Node2Vec-20\t0.824\t0.002\n",
      "CN\t0.867\t0.002\n",
      "Adamic-Adar\t0.867\t0.002\n",
      "Node2Vec-5\t0.688\t0.008\n",
      "svds-30\t0.851\t0.003\n",
      "Node2Vec-128\t0.883\t0.001\n",
      "NMF-10\t0.813\t0.005\n",
      "PA\t0.787\t0.0\n",
      "Node2Vec-10\t0.756\t0.001\n",
      "NMF-30\t0.88\t0.004\n",
      "svds-10\t0.809\t0.003\n",
      "sfdp-default\t0.906\t0.001\n",
      "0.867\n",
      "0.867\n",
      "0.813\n",
      "0.88\n",
      "0.756\n",
      "0.883\n",
      "0.824\n",
      "0.688\n",
      "0.787\n",
      "0.906\n",
      "0.809\n",
      "0.851\n",
      "\n",
      "0.002\n",
      "0.002\n",
      "0.005\n",
      "0.004\n",
      "0.001\n",
      "0.001\n",
      "0.002\n",
      "0.008\n",
      "0.0\n",
      "0.001\n",
      "0.003\n",
      "0.003\n"
     ]
    },
    {
     "data": {
      "text/plain": [
       "(['Adamic-Adar',\n",
       "  'CN',\n",
       "  'NMF-10',\n",
       "  'NMF-30',\n",
       "  'Node2Vec-10',\n",
       "  'Node2Vec-128',\n",
       "  'Node2Vec-20',\n",
       "  'Node2Vec-5',\n",
       "  'PA',\n",
       "  'sfdp-default',\n",
       "  'svds-10',\n",
       "  'svds-30'],\n",
       " array([ 0.867,  0.867,  0.813,  0.88 ,  0.756,  0.883,  0.824,  0.688,\n",
       "         0.787,  0.906,  0.809,  0.851]),\n",
       " array([ 0.002,  0.002,  0.005,  0.004,  0.001,  0.001,  0.002,  0.008,\n",
       "         0.   ,  0.001,  0.003,  0.003]))"
      ]
     },
     "execution_count": 131,
     "metadata": {},
     "output_type": "execute_result"
    }
   ],
   "source": [
    "parse_json_2(JS)"
   ]
  },
  {
   "cell_type": "code",
   "execution_count": null,
   "metadata": {
    "collapsed": true,
    "deletable": true,
    "editable": true
   },
   "outputs": [],
   "source": [
    "1\t2"
   ]
  }
 ],
 "metadata": {
  "kernelspec": {
   "display_name": "Python 2",
   "language": "python",
   "name": "python2"
  },
  "language_info": {
   "codemirror_mode": {
    "name": "ipython",
    "version": 2
   },
   "file_extension": ".py",
   "mimetype": "text/x-python",
   "name": "python",
   "nbconvert_exporter": "python",
   "pygments_lexer": "ipython2",
   "version": "2.7.12"
  }
 },
 "nbformat": 4,
 "nbformat_minor": 2
}
