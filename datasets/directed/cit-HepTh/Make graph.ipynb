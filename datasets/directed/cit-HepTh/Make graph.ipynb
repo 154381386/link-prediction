{
 "cells": [
  {
   "cell_type": "markdown",
   "metadata": {
    "deletable": true,
    "editable": true
   },
   "source": [
    "# Make graph"
   ]
  },
  {
   "cell_type": "code",
   "execution_count": 1,
   "metadata": {
    "collapsed": true,
    "deletable": true,
    "editable": true
   },
   "outputs": [],
   "source": [
    "file = \"out.cit-HepTh\""
   ]
  },
  {
   "cell_type": "code",
   "execution_count": 2,
   "metadata": {
    "collapsed": false,
    "deletable": true,
    "editable": true
   },
   "outputs": [
    {
     "name": "stdout",
     "output_type": "stream",
     "text": [
      "% asym unweighted\r\n",
      "% 352807 27770 27770\r\n",
      "1 2 \r\n",
      "1 3 \r\n",
      "1 4 \r\n",
      "1 5 \r\n",
      "1 6 \r\n",
      "1 7 \r\n",
      "1 8 \r\n",
      "1 9 \r\n"
     ]
    }
   ],
   "source": [
    "! head out.cit-HepTh"
   ]
  },
  {
   "cell_type": "code",
   "execution_count": 4,
   "metadata": {
    "collapsed": true,
    "deletable": true,
    "editable": true
   },
   "outputs": [],
   "source": [
    "FIN = open(file, 'r')\n",
    "left = set()\n",
    "right = set()\n",
    "edges = set()"
   ]
  },
  {
   "cell_type": "code",
   "execution_count": 5,
   "metadata": {
    "collapsed": false,
    "deletable": true,
    "editable": true
   },
   "outputs": [],
   "source": [
    "for line in FIN:\n",
    "    if '%' in line or not line:\n",
    "        continue\n",
    "    u, w = map(int, line.strip().split())\n",
    "    if u != w:\n",
    "        left.add(u)\n",
    "        right.add(w)\n",
    "        edges.add(str(u) + ' ' + str(w))"
   ]
  },
  {
   "cell_type": "code",
   "execution_count": 6,
   "metadata": {
    "collapsed": false,
    "deletable": true,
    "editable": true
   },
   "outputs": [
    {
     "data": {
      "text/plain": [
       "(25055, 23176, 352768)"
      ]
     },
     "execution_count": 6,
     "metadata": {},
     "output_type": "execute_result"
    }
   ],
   "source": [
    "len(left), len(right), len(edges)"
   ]
  },
  {
   "cell_type": "code",
   "execution_count": null,
   "metadata": {
    "collapsed": false,
    "deletable": true,
    "editable": true
   },
   "outputs": [],
   "source": []
  },
  {
   "cell_type": "code",
   "execution_count": 7,
   "metadata": {
    "collapsed": true,
    "deletable": true,
    "editable": true
   },
   "outputs": [],
   "source": [
    "FOUT = open('train.in', 'w')\n",
    "for line in edges:\n",
    "    FOUT.write(line + '\\n')\n",
    "FOUT.close()"
   ]
  },
  {
   "cell_type": "code",
   "execution_count": 8,
   "metadata": {
    "collapsed": false,
    "deletable": true,
    "editable": true
   },
   "outputs": [
    {
     "name": "stdout",
     "output_type": "stream",
     "text": [
      "22669 22232\r\n",
      "3197 371\r\n",
      "3959 221\r\n",
      "8353 734\r\n",
      "8353 737\r\n",
      "8353 736\r\n",
      "14089 970\r\n",
      "20302 16249\r\n",
      "23214 2159\r\n",
      "20302 16248\r\n"
     ]
    }
   ],
   "source": [
    "! tail train.in"
   ]
  },
  {
   "cell_type": "code",
   "execution_count": null,
   "metadata": {
    "collapsed": true,
    "deletable": true,
    "editable": true
   },
   "outputs": [],
   "source": []
  }
 ],
 "metadata": {
  "kernelspec": {
   "display_name": "Python 2",
   "language": "python",
   "name": "python2"
  },
  "language_info": {
   "codemirror_mode": {
    "name": "ipython",
    "version": 2
   },
   "file_extension": ".py",
   "mimetype": "text/x-python",
   "name": "python",
   "nbconvert_exporter": "python",
   "pygments_lexer": "ipython2",
   "version": "2.7.12"
  }
 },
 "nbformat": 4,
 "nbformat_minor": 1
}
