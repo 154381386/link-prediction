{
 "cells": [
  {
   "cell_type": "markdown",
   "metadata": {},
   "source": [
    "# Make graph"
   ]
  },
  {
   "cell_type": "code",
   "execution_count": 1,
   "metadata": {
    "collapsed": true
   },
   "outputs": [],
   "source": [
    "file = 'EuroSiS Generale Pays.gexf'"
   ]
  },
  {
   "cell_type": "code",
   "execution_count": 3,
   "metadata": {
    "collapsed": false
   },
   "outputs": [
    {
     "name": "stdout",
     "output_type": "stream",
     "text": [
      "<?xml version=\"1.0\" encoding=\"UTF-8\"?>\r",
      "\r\n",
      "<gexf xmlns=\"http://www.gephi.org/gexf\" xmlns:viz=\"http://www.gephi.org/gexf/viz\">\r",
      "\r\n",
      "<graph type=\"static\">\r",
      "\r\n",
      "<attributes class=\"node\" type=\"static\">\r",
      "\r\n",
      "<attribute id=\"0\" title=\"label\" type=\"string\"/>\r",
      "\r\n",
      "<attribute id=\"1\" title=\"country\" type=\"string\"/>\r",
      "\r\n",
      "<attribute id=\"2\" title=\"actor_type\" type=\"string\"/>\r",
      "\r\n",
      "<attribute id=\"3\" title=\"tag_agri\" type=\"string\"/>\r",
      "\r\n",
      "<attribute id=\"4\" title=\"tag_biotech\" type=\"string\"/>\r",
      "\r\n",
      "<attribute id=\"5\" title=\"tag_business\" type=\"string\"/>\r",
      "\r\n"
     ]
    }
   ],
   "source": [
    "! head 'EuroSiS Generale Pays.gexf'"
   ]
  },
  {
   "cell_type": "code",
   "execution_count": 4,
   "metadata": {
    "collapsed": false
   },
   "outputs": [
    {
     "name": "stdout",
     "output_type": "stream",
     "text": [
      "<edge id=\"7579\" source=\"1749\" target=\"122\"/>\r",
      "\r\n",
      "<edge id=\"7580\" source=\"1749\" target=\"1232\"/>\r",
      "\r\n",
      "<edge id=\"7581\" source=\"1751\" target=\"1203\"/>\r",
      "\r\n",
      "<edge id=\"7582\" source=\"1752\" target=\"1158\"/>\r",
      "\r\n",
      "<edge id=\"7583\" source=\"1752\" target=\"481\"/>\r",
      "\r\n",
      "<edge id=\"7584\" source=\"1752\" target=\"1407\"/>\r",
      "\r\n",
      "<edge id=\"7585\" source=\"1752\" target=\"209\"/>\r",
      "\r\n",
      "</edges>\r",
      "\r\n",
      "</graph>\r",
      "\r\n",
      "</gexf>\r",
      "\r\n"
     ]
    }
   ],
   "source": [
    "! tail 'EuroSiS Generale Pays.gexf'"
   ]
  },
  {
   "cell_type": "code",
   "execution_count": 49,
   "metadata": {
    "collapsed": true
   },
   "outputs": [],
   "source": [
    "edge_set = set()\n",
    "node_set = set()\n",
    "FIN = open(file, 'r')"
   ]
  },
  {
   "cell_type": "code",
   "execution_count": 50,
   "metadata": {
    "collapsed": false
   },
   "outputs": [
    {
     "data": {
      "text/plain": [
       "'7585'"
      ]
     },
     "execution_count": 50,
     "metadata": {},
     "output_type": "execute_result"
    }
   ],
   "source": [
    "import re\n",
    "m = re.search(r\"(\\d+)([^0-9])*(\\d+)([^0-9])*(\\d+)([^0-9])*\",\"<edge id=\\\"7585\\\" source=\\\"1752\\\" target=\\\"209\\\"/>\")\n",
    "m.group(1)"
   ]
  },
  {
   "cell_type": "code",
   "execution_count": 51,
   "metadata": {
    "collapsed": true
   },
   "outputs": [],
   "source": [
    "\n",
    "for line in FIN:\n",
    "    if '<edge id=' in line:\n",
    "        m = re.search(r\"(\\d+)([^0-9])*(\\d+)([^0-9])*(\\d+)([^0-9])*\", line)\n",
    "        edge_id, source, target = int(m.group(1)), int(m.group(3)), int(m.group(5))\n",
    "        line = str(source) + ' ' + str(target)\n",
    "        line_rev = str(target) + ' ' + str(source)\n",
    "        if line not in edge_set and line_rev not in edge_set:\n",
    "            edge_set.add(str(source) + ' ' + str(target))\n",
    "            node_set.add(source)\n",
    "            node_set.add(target)"
   ]
  },
  {
   "cell_type": "code",
   "execution_count": 52,
   "metadata": {
    "collapsed": false
   },
   "outputs": [
    {
     "data": {
      "text/plain": [
       "(6462, 1285)"
      ]
     },
     "execution_count": 52,
     "metadata": {},
     "output_type": "execute_result"
    }
   ],
   "source": [
    "len(edge_set), len(node_set)"
   ]
  },
  {
   "cell_type": "code",
   "execution_count": 53,
   "metadata": {
    "collapsed": true
   },
   "outputs": [],
   "source": [
    "fout_train = open('train.in', 'w')\n",
    "for line in edge_set:\n",
    "    fout_train.write(line + '\\n')\n",
    "fout_train.close()"
   ]
  },
  {
   "cell_type": "code",
   "execution_count": 54,
   "metadata": {
    "collapsed": false
   },
   "outputs": [],
   "source": [
    "# Check dublicates\n",
    "for line in edge_set:\n",
    "    u, w = line.split()\n",
    "    if w + ' ' + u in edge_set:\n",
    "        print 'dublicates', u, w"
   ]
  },
  {
   "cell_type": "code",
   "execution_count": null,
   "metadata": {
    "collapsed": true
   },
   "outputs": [],
   "source": []
  }
 ],
 "metadata": {
  "kernelspec": {
   "display_name": "Python 2",
   "language": "python",
   "name": "python2"
  },
  "language_info": {
   "codemirror_mode": {
    "name": "ipython",
    "version": 2
   },
   "file_extension": ".py",
   "mimetype": "text/x-python",
   "name": "python",
   "nbconvert_exporter": "python",
   "pygments_lexer": "ipython2",
   "version": "2.7.12"
  }
 },
 "nbformat": 4,
 "nbformat_minor": 2
}
