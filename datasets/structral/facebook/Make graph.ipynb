{
 "cells": [
  {
   "cell_type": "markdown",
   "metadata": {
    "deletable": true,
    "editable": true
   },
   "source": [
    "# Make graph"
   ]
  },
  {
   "cell_type": "code",
   "execution_count": 1,
   "metadata": {
    "collapsed": true,
    "deletable": true,
    "editable": true
   },
   "outputs": [],
   "source": [
    "file = \"facebook-wosn-links/out.facebook-wosn-links\""
   ]
  },
  {
   "cell_type": "code",
   "execution_count": 7,
   "metadata": {
    "collapsed": false,
    "deletable": true,
    "editable": true
   },
   "outputs": [
    {
     "name": "stdout",
     "output_type": "stream",
     "text": [
      "% sym unweighted\r\n",
      "% 817035 63731 63731\r\n",
      "1 2 1 0\r\n",
      "1 3 1 0\r\n",
      "1 4 1 0\r\n",
      "1 5 1 0\r\n",
      "1 6 1 0\r\n",
      "1 7 1 0\r\n",
      "1 8 1 0\r\n",
      "1 9 1 0\r\n",
      "1 10 1 0\r\n",
      "1 11 1 0\r\n",
      "1 12 1 0\r\n",
      "1 13 1 0\r\n",
      "1 14 1 0\r\n",
      "1 15 1 0\r\n",
      "1 16 1 0\r\n",
      "1 17 1 0\r\n",
      "1 18 1 0\r\n",
      "1 19 1 0\r\n",
      "1 20 1 1217964960\r\n",
      "1 21 1 0\r\n",
      "1 22 1 0\r\n",
      "1 23 1 0\r\n",
      "1 24 1 1227241074\r\n",
      "1 25 1 1229314692\r\n",
      "1 26 1 0\r\n",
      "1 27 1 0\r\n",
      "2 3 1 1183325626\r\n",
      "2 7 1 0\r\n",
      "2 9 1 1187651286\r\n",
      "2 11 1 0\r\n",
      "2 12 1 0\r\n",
      "2 16 1 0\r\n",
      "2 17 1 1187805092\r\n",
      "2 18 1 1214610377\r\n",
      "2 23 1 1190585955\r\n",
      "2 51 1 0\r\n",
      "2 53 1 0\r\n",
      "2 479 1 1186538578\r\n",
      "2 1079 1 1213252841\r\n",
      "2 1132 1 1185755787\r\n",
      "2 1237 1 1181784031\r\n",
      "2 1645 1 0\r\n",
      "2 2053 1 1203294790\r\n",
      "2 2054 1 1198297918\r\n",
      "2 2055 1 0\r\n",
      "2 2056 1 0\r\n",
      "2 2057 1 1215021133\r\n",
      "2 2058 1 0\r\n"
     ]
    }
   ],
   "source": [
    "! head facebook-wosn-links/out.facebook-wosn-links --lines=50"
   ]
  },
  {
   "cell_type": "code",
   "execution_count": 8,
   "metadata": {
    "collapsed": true,
    "deletable": true,
    "editable": true
   },
   "outputs": [],
   "source": [
    "FIN = open(file, 'r')\n",
    "node_set = set()\n",
    "edges = set()"
   ]
  },
  {
   "cell_type": "code",
   "execution_count": 9,
   "metadata": {
    "collapsed": false,
    "deletable": true,
    "editable": true
   },
   "outputs": [],
   "source": [
    "for line in FIN:\n",
    "    if '%' in line or not line:\n",
    "        continue\n",
    "    u, w, weight, time = map(int, line.strip().split())\n",
    "    if weight != 1:\n",
    "        print weight\n",
    "    node_set.add(u)\n",
    "    node_set.add(w)\n",
    "    edges.add(str(u) + ' ' + str(w))"
   ]
  },
  {
   "cell_type": "code",
   "execution_count": 10,
   "metadata": {
    "collapsed": false,
    "deletable": true,
    "editable": true
   },
   "outputs": [
    {
     "data": {
      "text/plain": [
       "(63731, 817035)"
      ]
     },
     "execution_count": 10,
     "metadata": {},
     "output_type": "execute_result"
    }
   ],
   "source": [
    "len(node_set), len(edges)"
   ]
  },
  {
   "cell_type": "code",
   "execution_count": null,
   "metadata": {
    "collapsed": false,
    "deletable": true,
    "editable": true
   },
   "outputs": [],
   "source": []
  },
  {
   "cell_type": "code",
   "execution_count": 11,
   "metadata": {
    "collapsed": true,
    "deletable": true,
    "editable": true
   },
   "outputs": [],
   "source": [
    "FOUT = open('train.in', 'w')\n",
    "for line in edges:\n",
    "    FOUT.write(line + '\\n')\n",
    "FOUT.close()"
   ]
  },
  {
   "cell_type": "code",
   "execution_count": 12,
   "metadata": {
    "collapsed": false,
    "deletable": true,
    "editable": true
   },
   "outputs": [
    {
     "name": "stdout",
     "output_type": "stream",
     "text": [
      "1751 6298\r\n",
      "21201 33947\r\n",
      "10197 19158\r\n",
      "21220 25577\r\n",
      "30556 35200\r\n",
      "10929 20778\r\n",
      "28751 29568\r\n",
      "4351 18394\r\n",
      "25057 48425\r\n",
      "2465 6957\r\n"
     ]
    }
   ],
   "source": [
    "! tail train.in"
   ]
  },
  {
   "cell_type": "code",
   "execution_count": null,
   "metadata": {
    "collapsed": true,
    "deletable": true,
    "editable": true
   },
   "outputs": [],
   "source": []
  }
 ],
 "metadata": {
  "kernelspec": {
   "display_name": "Python 2",
   "language": "python",
   "name": "python2"
  },
  "language_info": {
   "codemirror_mode": {
    "name": "ipython",
    "version": 2
   },
   "file_extension": ".py",
   "mimetype": "text/x-python",
   "name": "python",
   "nbconvert_exporter": "python",
   "pygments_lexer": "ipython2",
   "version": "2.7.12"
  }
 },
 "nbformat": 4,
 "nbformat_minor": 1
}
