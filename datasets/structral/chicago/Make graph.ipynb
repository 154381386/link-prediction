{
 "cells": [
  {
   "cell_type": "markdown",
   "metadata": {},
   "source": [
    "# Make graph"
   ]
  },
  {
   "cell_type": "code",
   "execution_count": 1,
   "metadata": {
    "collapsed": true
   },
   "outputs": [],
   "source": [
    "file = \"out.tntp-ChicagoRegional\""
   ]
  },
  {
   "cell_type": "code",
   "execution_count": 2,
   "metadata": {
    "collapsed": false
   },
   "outputs": [
    {
     "name": "stdout",
     "output_type": "stream",
     "text": [
      "% sym unweighted\r\n",
      "1 2 \r\n",
      "3 2 \r\n",
      "4 2 \r\n",
      "5 2 \r\n",
      "6 2 \r\n",
      "7 2 \r\n",
      "8 2 \r\n",
      "9 10 \r\n",
      "11 10 \r\n"
     ]
    }
   ],
   "source": [
    "! head out.tntp-ChicagoRegional"
   ]
  },
  {
   "cell_type": "code",
   "execution_count": 3,
   "metadata": {
    "collapsed": true
   },
   "outputs": [],
   "source": [
    "FIN = open(file, 'r')\n",
    "node_set = set()\n",
    "edges = set()"
   ]
  },
  {
   "cell_type": "code",
   "execution_count": 7,
   "metadata": {
    "collapsed": false
   },
   "outputs": [],
   "source": [
    "for line in FIN:\n",
    "    if '%' in line or not line:\n",
    "        continue\n",
    "    u, w = map(int, line.strip().split())\n",
    "    node_set.add(u)\n",
    "    node_set.add(w)\n",
    "    edges.add(str(u) + ' ' + str(w))"
   ]
  },
  {
   "cell_type": "code",
   "execution_count": 8,
   "metadata": {
    "collapsed": false
   },
   "outputs": [
    {
     "data": {
      "text/plain": [
       "(1466, 1297)"
      ]
     },
     "execution_count": 8,
     "metadata": {},
     "output_type": "execute_result"
    }
   ],
   "source": [
    "len(node_set), len(edges)"
   ]
  },
  {
   "cell_type": "code",
   "execution_count": null,
   "metadata": {
    "collapsed": false
   },
   "outputs": [],
   "source": []
  },
  {
   "cell_type": "code",
   "execution_count": 9,
   "metadata": {
    "collapsed": true
   },
   "outputs": [],
   "source": [
    "FOUT = open('train.in', 'w')\n",
    "for line in edges:\n",
    "    FOUT.write(line + '\\n')\n",
    "FOUT.close()"
   ]
  },
  {
   "cell_type": "code",
   "execution_count": 10,
   "metadata": {
    "collapsed": false
   },
   "outputs": [
    {
     "name": "stdout",
     "output_type": "stream",
     "text": [
      "711 707\r\n",
      "1147 1156\r\n",
      "323 315\r\n",
      "237 235\r\n",
      "1439 1440\r\n",
      "364 359\r\n",
      "546 541\r\n",
      "474 469\r\n",
      "49 43\r\n",
      "884 817\r\n"
     ]
    }
   ],
   "source": [
    "! tail train.in"
   ]
  },
  {
   "cell_type": "code",
   "execution_count": null,
   "metadata": {
    "collapsed": true
   },
   "outputs": [],
   "source": []
  },
  {
   "cell_type": "code",
   "execution_count": null,
   "metadata": {
    "collapsed": true
   },
   "outputs": [],
   "source": []
  }
 ],
 "metadata": {
  "kernelspec": {
   "display_name": "Python 2",
   "language": "python",
   "name": "python2"
  },
  "language_info": {
   "codemirror_mode": {
    "name": "ipython",
    "version": 2
   },
   "file_extension": ".py",
   "mimetype": "text/x-python",
   "name": "python",
   "nbconvert_exporter": "python",
   "pygments_lexer": "ipython2",
   "version": "2.7.6"
  }
 },
 "nbformat": 4,
 "nbformat_minor": 1
}
