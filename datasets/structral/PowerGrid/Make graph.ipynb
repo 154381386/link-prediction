{
 "cells": [
  {
   "cell_type": "markdown",
   "metadata": {},
   "source": [
    "# Make graph"
   ]
  },
  {
   "cell_type": "code",
   "execution_count": 1,
   "metadata": {
    "collapsed": true
   },
   "outputs": [],
   "source": [
    "file = 'power.gml'"
   ]
  },
  {
   "cell_type": "code",
   "execution_count": 2,
   "metadata": {
    "collapsed": false
   },
   "outputs": [
    {
     "name": "stdout",
     "output_type": "stream",
     "text": [
      "Creator \"Mark Newman on Thu Aug 31 13:33:32 2006\"\r\n",
      "graph\r\n",
      "[\r\n",
      "  directed 0\r\n",
      "  node\r\n",
      "  [\r\n",
      "    id 0\r\n",
      "  ]\r\n",
      "  node\r\n",
      "  [\r\n"
     ]
    }
   ],
   "source": [
    "!head power.gml"
   ]
  },
  {
   "cell_type": "code",
   "execution_count": 3,
   "metadata": {
    "collapsed": false
   },
   "outputs": [
    {
     "name": "stdout",
     "output_type": "stream",
     "text": [
      "  [\r\n",
      "    source 4940\r\n",
      "    target 819\r\n",
      "  ]\r\n",
      "  edge\r\n",
      "  [\r\n",
      "    source 4940\r\n",
      "    target 4939\r\n",
      "  ]\r\n",
      "]\r\n"
     ]
    }
   ],
   "source": [
    "!tail power.gml"
   ]
  },
  {
   "cell_type": "code",
   "execution_count": 4,
   "metadata": {
    "collapsed": true
   },
   "outputs": [],
   "source": [
    "nodes_set = set()\n",
    "edges_set = set()"
   ]
  },
  {
   "cell_type": "code",
   "execution_count": 10,
   "metadata": {
    "collapsed": true
   },
   "outputs": [],
   "source": [
    "FIN = open(file, 'r')"
   ]
  },
  {
   "cell_type": "code",
   "execution_count": 11,
   "metadata": {
    "collapsed": true
   },
   "outputs": [],
   "source": [
    "source = None\n",
    "\n",
    "for line in FIN:\n",
    "    if 'id' in line:\n",
    "        nodes_set.add(int(line.split()[1]))\n",
    "    if 'source' in line:\n",
    "        source = int(line.split()[1])\n",
    "    if 'target' in line:\n",
    "        target = int(line.split()[1])\n",
    "        edges_set.add(str(source) + ' ' + str(target))"
   ]
  },
  {
   "cell_type": "code",
   "execution_count": 12,
   "metadata": {
    "collapsed": false
   },
   "outputs": [
    {
     "data": {
      "text/plain": [
       "(4941, 6594)"
      ]
     },
     "execution_count": 12,
     "metadata": {},
     "output_type": "execute_result"
    }
   ],
   "source": [
    "len(nodes_set), len(edges_set)"
   ]
  },
  {
   "cell_type": "code",
   "execution_count": null,
   "metadata": {
    "collapsed": true
   },
   "outputs": [],
   "source": [
    "# Check dublicates\n",
    "for line in edges_set:\n",
    "    "
   ]
  }
 ],
 "metadata": {
  "kernelspec": {
   "display_name": "Python 2",
   "language": "python",
   "name": "python2"
  },
  "language_info": {
   "codemirror_mode": {
    "name": "ipython",
    "version": 2
   },
   "file_extension": ".py",
   "mimetype": "text/x-python",
   "name": "python",
   "nbconvert_exporter": "python",
   "pygments_lexer": "ipython2",
   "version": "2.7.12"
  }
 },
 "nbformat": 4,
 "nbformat_minor": 2
}
