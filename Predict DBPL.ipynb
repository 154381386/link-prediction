{
 "cells": [
  {
   "cell_type": "markdown",
   "metadata": {},
   "source": [
    "# Выбор датасета"
   ]
  },
  {
   "cell_type": "code",
   "execution_count": 1,
   "metadata": {
    "collapsed": true
   },
   "outputs": [],
   "source": [
    "SIZE_NEG = 100000\n",
    "SIZE_POS = 100000"
   ]
  },
  {
   "cell_type": "code",
   "execution_count": 12,
   "metadata": {
    "collapsed": false
   },
   "outputs": [],
   "source": [
    "fin_train = open('train.in', 'r')\n",
    "train_set = set()\n",
    "nodes = set()\n",
    "for line in fin_train:\n",
    "    line = line.strip()\n",
    "    train_set.add(line)\n",
    "    u, w = line.split()\n",
    "    nodes.add(u)\n",
    "    nodes.add(w)\n",
    "fin_train.close()"
   ]
  },
  {
   "cell_type": "code",
   "execution_count": 7,
   "metadata": {
    "collapsed": false
   },
   "outputs": [],
   "source": [
    "fin_test = open('test.out', 'r')\n",
    "poss_set = set()\n",
    "test_set = set()\n",
    "for line in fin_test:\n",
    "    line = line.strip()\n",
    "    test_set.add(line)\n",
    "    u, w = line.split()\n",
    "    if (u + ' ' + w not in train_set) and (\n",
    "        w + ' ' + u not in train_set):\n",
    "        poss_set.add(line)\n",
    "fin_test.close()"
   ]
  },
  {
   "cell_type": "code",
   "execution_count": 8,
   "metadata": {
    "collapsed": false
   },
   "outputs": [
    {
     "data": {
      "text/plain": [
       "143357"
      ]
     },
     "execution_count": 8,
     "metadata": {},
     "output_type": "execute_result"
    }
   ],
   "source": [
    "len(poss_set)"
   ]
  },
  {
   "cell_type": "code",
   "execution_count": 9,
   "metadata": {
    "collapsed": true
   },
   "outputs": [],
   "source": [
    "import random\n",
    "poss_set = random.sample(poss_set, SIZE_POS)"
   ]
  },
  {
   "cell_type": "code",
   "execution_count": 13,
   "metadata": {
    "collapsed": false
   },
   "outputs": [
    {
     "data": {
      "text/plain": [
       "(100000, 527098)"
      ]
     },
     "execution_count": 13,
     "metadata": {},
     "output_type": "execute_result"
    }
   ],
   "source": [
    "len(poss_set), len(nodes)"
   ]
  },
  {
   "cell_type": "code",
   "execution_count": 17,
   "metadata": {
    "collapsed": true
   },
   "outputs": [],
   "source": [
    "def in_set(u, w, Set):\n",
    "    return (u + ' ' + w in Set) or (w + ' ' + u in Set)"
   ]
  },
  {
   "cell_type": "code",
   "execution_count": 33,
   "metadata": {
    "collapsed": false
   },
   "outputs": [],
   "source": [
    "neg_set = set()\n",
    "restriction_set = train_set | test_set\n",
    "f = 0\n",
    "s = 0\n",
    "d = 0\n",
    "e = 0\n",
    "while len(neg_set) < SIZE_NEG:\n",
    "    u = random.sample(nodes, 1)[0]\n",
    "    w = random.sample(nodes, 1)[0]\n",
    "    if u == w:\n",
    "        f += 1\n",
    "        continue\n",
    "    if in_set(u, w, restriction_set):\n",
    "        s += 1\n",
    "        continue\n",
    "    if in_set(u, w, neg_set):\n",
    "        e += 1\n",
    "        continue\n",
    "    neg_set.add(u + ' ' + w)"
   ]
  },
  {
   "cell_type": "code",
   "execution_count": 34,
   "metadata": {
    "collapsed": false
   },
   "outputs": [
    {
     "data": {
      "text/plain": [
       "100000"
      ]
     },
     "execution_count": 34,
     "metadata": {},
     "output_type": "execute_result"
    }
   ],
   "source": [
    "len(neg_set)"
   ]
  },
  {
   "cell_type": "code",
   "execution_count": 36,
   "metadata": {
    "collapsed": false
   },
   "outputs": [
    {
     "data": {
      "text/plain": [
       "(0, 1, 0, 0)"
      ]
     },
     "execution_count": 36,
     "metadata": {},
     "output_type": "execute_result"
    }
   ],
   "source": [
    "f, s, d, e"
   ]
  },
  {
   "cell_type": "code",
   "execution_count": 39,
   "metadata": {
    "collapsed": true
   },
   "outputs": [],
   "source": [
    "fout_save = open('neg_set.txt', 'w')\n",
    "for x in neg_set:\n",
    "    fout_save.write(x + '\\n')\n",
    "fout_save.close()"
   ]
  },
  {
   "cell_type": "code",
   "execution_count": 41,
   "metadata": {
    "collapsed": false
   },
   "outputs": [],
   "source": [
    "fout_save = open('poss_set.txt', 'w')\n",
    "for x in poss_set:\n",
    "    fout_save.write(x + '\\n')\n",
    "fout_save.close()"
   ]
  },
  {
   "cell_type": "markdown",
   "metadata": {},
   "source": [
    "# Дерево решений"
   ]
  },
  {
   "cell_type": "code",
   "execution_count": null,
   "metadata": {
    "collapsed": true
   },
   "outputs": [],
   "source": []
  }
 ],
 "metadata": {
  "kernelspec": {
   "display_name": "Python 2",
   "language": "python",
   "name": "python2"
  },
  "language_info": {
   "codemirror_mode": {
    "name": "ipython",
    "version": 2
   },
   "file_extension": ".py",
   "mimetype": "text/x-python",
   "name": "python",
   "nbconvert_exporter": "python",
   "pygments_lexer": "ipython2",
   "version": "2.7.6"
  }
 },
 "nbformat": 4,
 "nbformat_minor": 0
}
