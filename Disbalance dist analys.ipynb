{
 "cells": [
  {
   "cell_type": "markdown",
   "metadata": {
    "collapsed": true
   },
   "source": [
    "# Чтение"
   ]
  },
  {
   "cell_type": "code",
   "execution_count": 1,
   "metadata": {
    "collapsed": true
   },
   "outputs": [],
   "source": [
    "%matplotlib inline"
   ]
  },
  {
   "cell_type": "code",
   "execution_count": 2,
   "metadata": {
    "collapsed": false
   },
   "outputs": [],
   "source": [
    "fin_train = open('train.in', 'r')\n",
    "train_set = set()\n",
    "nodes = set()\n",
    "for line in fin_train:\n",
    "    line = line.strip()\n",
    "    u, w = line.split()\n",
    "    train_set.add(line)\n",
    "    nodes.add(int(u))\n",
    "    nodes.add(int(w))\n",
    "fin_train.close()"
   ]
  },
  {
   "cell_type": "code",
   "execution_count": 3,
   "metadata": {
    "collapsed": false
   },
   "outputs": [],
   "source": [
    "from graph_tool.all import *"
   ]
  },
  {
   "cell_type": "code",
   "execution_count": 4,
   "metadata": {
    "collapsed": false
   },
   "outputs": [],
   "source": [
    "g = Graph(directed=False)"
   ]
  },
  {
   "cell_type": "code",
   "execution_count": 5,
   "metadata": {
    "collapsed": false
   },
   "outputs": [
    {
     "data": {
      "text/plain": [
       "<generator object <genexpr> at 0x7f9e46606280>"
      ]
     },
     "execution_count": 5,
     "metadata": {},
     "output_type": "execute_result"
    }
   ],
   "source": [
    "g.add_vertex(max(nodes) + 1)"
   ]
  },
  {
   "cell_type": "code",
   "execution_count": 6,
   "metadata": {
    "collapsed": false
   },
   "outputs": [],
   "source": [
    "for edge in train_set:\n",
    "    u, w = map(int, edge.split())\n",
    "    g.add_edge(g.vertex(u), g.vertex(w))"
   ]
  },
  {
   "cell_type": "code",
   "execution_count": 7,
   "metadata": {
    "collapsed": false
   },
   "outputs": [],
   "source": [
    "comp, hist = label_components(g)"
   ]
  },
  {
   "cell_type": "code",
   "execution_count": 33,
   "metadata": {
    "collapsed": true
   },
   "outputs": [],
   "source": [
    "dist2_pairs = set()\n",
    "for node in nodes:\n",
    "    neighbours = list(set(g.vertex(node).out_neighbours()))\n",
    "    for i in range(len(neighbours)):\n",
    "        for j in range(i + 1, len(neighbours)):\n",
    "            pair = str(neighbours[i]) + ' ' + str(neighbours[j])\n",
    "            pair_r = str(neighbours[j]) + ' ' + str(neighbours[i])\n",
    "            if (pair not in train_set) and (pair_r not in train_set):\n",
    "                if pair_r not in dist2_pairs:\n",
    "                    dist2_pairs.add(pair)"
   ]
  },
  {
   "cell_type": "code",
   "execution_count": 34,
   "metadata": {
    "collapsed": false
   },
   "outputs": [
    {
     "name": "stdout",
     "output_type": "stream",
     "text": [
      "19593250\n"
     ]
    }
   ],
   "source": [
    "print len(dist2_pairs)"
   ]
  },
  {
   "cell_type": "code",
   "execution_count": 28,
   "metadata": {
    "collapsed": false
   },
   "outputs": [],
   "source": [
    "fin_test = open('test.out', 'r')\n",
    "test_set = set()\n",
    "for line in fin_test:\n",
    "    line = line.strip()\n",
    "    u, w = line.split()\n",
    "    if (u + ' ' + w not in train_set) and (\n",
    "        w + ' ' + u not in train_set):\n",
    "        test_set.add(line)\n",
    "fin_test.close()"
   ]
  },
  {
   "cell_type": "code",
   "execution_count": 29,
   "metadata": {
    "collapsed": true
   },
   "outputs": [],
   "source": [
    "NumberNewEdges2Dist = 0\n",
    "for line in test_set:\n",
    "    line = line.strip()\n",
    "    u, w = line.split()\n",
    "    if (u + ' ' + w in dist2_pairs) or (\n",
    "        w + ' ' + u in dist2_pairs):\n",
    "        NumberNewEdges2Dist += 1"
   ]
  },
  {
   "cell_type": "code",
   "execution_count": 30,
   "metadata": {
    "collapsed": false
   },
   "outputs": [
    {
     "data": {
      "text/plain": [
       "33337"
      ]
     },
     "execution_count": 30,
     "metadata": {},
     "output_type": "execute_result"
    }
   ],
   "source": [
    "NumberNewEdges2Dist"
   ]
  },
  {
   "cell_type": "code",
   "execution_count": 36,
   "metadata": {
    "collapsed": false
   },
   "outputs": [
    {
     "data": {
      "text/plain": [
       "0.23254532391163318"
      ]
     },
     "execution_count": 36,
     "metadata": {},
     "output_type": "execute_result"
    }
   ],
   "source": [
    "1.0 * NumberNewEdges2Dist / len(test_set)"
   ]
  },
  {
   "cell_type": "code",
   "execution_count": 35,
   "metadata": {
    "collapsed": false
   },
   "outputs": [
    {
     "data": {
      "text/plain": [
       "0.0017014533066234544"
      ]
     },
     "execution_count": 35,
     "metadata": {},
     "output_type": "execute_result"
    }
   ],
   "source": [
    "1.0 * NumberNewEdges2Dist / len(dist2_pairs)"
   ]
  },
  {
   "cell_type": "markdown",
   "metadata": {},
   "source": [
    "# Make small dateset fro 2 dist pairs"
   ]
  },
  {
   "cell_type": "code",
   "execution_count": 48,
   "metadata": {
    "collapsed": true
   },
   "outputs": [],
   "source": [
    "MAX_ID = 20000\n",
    "SIZE_NEG = 1000\n",
    "SIZE_POS = 1000"
   ]
  },
  {
   "cell_type": "code",
   "execution_count": 55,
   "metadata": {
    "collapsed": true
   },
   "outputs": [],
   "source": [
    "poss_set = set()\n",
    "for line in test_set:\n",
    "    line = line.strip()\n",
    "    u, w = line.split()\n",
    "    # if small\n",
    "    if int(u) < MAX_ID and int(w) < MAX_ID:\n",
    "        # if not existed -> become\n",
    "        if not in_set(u, w, train_set):\n",
    "            # if 2 dist\n",
    "            if in_set(u, w, dist2_pairs):\n",
    "                poss_set.add(line)"
   ]
  },
  {
   "cell_type": "code",
   "execution_count": 56,
   "metadata": {
    "collapsed": false
   },
   "outputs": [
    {
     "data": {
      "text/plain": [
       "1287"
      ]
     },
     "execution_count": 56,
     "metadata": {},
     "output_type": "execute_result"
    }
   ],
   "source": [
    "len(poss_set)"
   ]
  },
  {
   "cell_type": "code",
   "execution_count": 57,
   "metadata": {
    "collapsed": true
   },
   "outputs": [],
   "source": [
    "nodes_small = set()\n",
    "for node in nodes:\n",
    "    if node < MAX_ID:\n",
    "        nodes_small.add(node)"
   ]
  },
  {
   "cell_type": "code",
   "execution_count": 58,
   "metadata": {
    "collapsed": true
   },
   "outputs": [],
   "source": [
    "import random\n",
    "poss_set = random.sample(poss_set, SIZE_POS)"
   ]
  },
  {
   "cell_type": "code",
   "execution_count": 59,
   "metadata": {
    "collapsed": false
   },
   "outputs": [
    {
     "data": {
      "text/plain": [
       "(1000, 19546)"
      ]
     },
     "execution_count": 59,
     "metadata": {},
     "output_type": "execute_result"
    }
   ],
   "source": [
    "len(poss_set), len(nodes_small)"
   ]
  },
  {
   "cell_type": "code",
   "execution_count": 60,
   "metadata": {
    "collapsed": true
   },
   "outputs": [],
   "source": [
    "def in_set(u, w, Set):\n",
    "    return (u + ' ' + w in Set) or (w + ' ' + u in Set)"
   ]
  },
  {
   "cell_type": "code",
   "execution_count": 62,
   "metadata": {
    "collapsed": false
   },
   "outputs": [],
   "source": [
    "neg_set = set()\n",
    "for line in dist2_pairs:\n",
    "    line = line.strip()\n",
    "    u, w = line.split()\n",
    "    if int(u) < MAX_ID and int(w) < MAX_ID:\n",
    "        if not in_set(u, w, train_set):\n",
    "            if not in_set(u, w, test_set):\n",
    "                neg_set.add(line)"
   ]
  },
  {
   "cell_type": "code",
   "execution_count": 63,
   "metadata": {
    "collapsed": false
   },
   "outputs": [
    {
     "name": "stdout",
     "output_type": "stream",
     "text": [
      "286112\n"
     ]
    }
   ],
   "source": [
    "print len(neg_set)"
   ]
  },
  {
   "cell_type": "code",
   "execution_count": 64,
   "metadata": {
    "collapsed": true
   },
   "outputs": [],
   "source": [
    "neg_set = random.sample(neg_set, SIZE_NEG)"
   ]
  },
  {
   "cell_type": "code",
   "execution_count": 65,
   "metadata": {
    "collapsed": true
   },
   "outputs": [],
   "source": [
    "fout_save = open('neg_set_small_2_dist.txt', 'w')\n",
    "for x in neg_set:\n",
    "    fout_save.write(x + '\\n')\n",
    "fout_save.close()"
   ]
  },
  {
   "cell_type": "code",
   "execution_count": 69,
   "metadata": {
    "collapsed": true
   },
   "outputs": [],
   "source": [
    "fout_save = open('poss_set_small_2_dist.txt', 'w')\n",
    "for x in poss_set:\n",
    "    fout_save.write(x + '\\n')\n",
    "fout_save.close()"
   ]
  },
  {
   "cell_type": "code",
   "execution_count": 68,
   "metadata": {
    "collapsed": false
   },
   "outputs": [
    {
     "data": {
      "text/plain": [
       "('1042 15644', '7971 14842', '14337 9649')"
      ]
     },
     "execution_count": 68,
     "metadata": {},
     "output_type": "execute_result"
    }
   ],
   "source": [
    "neg_set[0], neg_set[1], neg_set[2]"
   ]
  },
  {
   "cell_type": "code",
   "execution_count": null,
   "metadata": {
    "collapsed": true
   },
   "outputs": [],
   "source": []
  }
 ],
 "metadata": {
  "kernelspec": {
   "display_name": "Python 2",
   "language": "python",
   "name": "python2"
  },
  "language_info": {
   "codemirror_mode": {
    "name": "ipython",
    "version": 2
   },
   "file_extension": ".py",
   "mimetype": "text/x-python",
   "name": "python",
   "nbconvert_exporter": "python",
   "pygments_lexer": "ipython2",
   "version": "2.7.6"
  }
 },
 "nbformat": 4,
 "nbformat_minor": 0
}
