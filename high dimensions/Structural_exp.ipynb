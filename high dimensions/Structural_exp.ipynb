{
 "cells": [
  {
   "cell_type": "code",
   "execution_count": 81,
   "metadata": {
    "collapsed": false
   },
   "outputs": [],
   "source": [
    "import graphviz as gv\n",
    "import pydot\n",
    "import random\n",
    "import numpy    \n",
    "from sklearn.metrics import roc_auc_score\n",
    "from  sklearn.ensemble import RandomForestClassifier as RF\n",
    "from sklearn.model_selection import cross_val_score\n",
    "from sklearn.decomposition import NMF\n",
    "from sklearn.decomposition import TruncatedSVD\n",
    "from scipy.sparse import coo_matrix\n",
    "from time import gmtime, strftime\n",
    "import matplotlib.pyplot as plt\n",
    "from mpl_toolkits.mplot3d import Axes3D\n",
    "import matplotlib.lines as mlines\n",
    "from scipy.sparse import linalg\n",
    "import numpy as np\n",
    "import math"
   ]
  },
  {
   "cell_type": "code",
   "execution_count": 51,
   "metadata": {
    "collapsed": true
   },
   "outputs": [],
   "source": [
    "def add_nodes(graph, nodes):\n",
    "    for n in nodes:\n",
    "        if isinstance(n, tuple):\n",
    "            graph.node(n[0], **n[1])\n",
    "        else:\n",
    "            graph.node(n)\n",
    "    return graph\n",
    "\n",
    "def add_edges(graph, edges):\n",
    "    for e in edges:\n",
    "        if isinstance(e[0], tuple):\n",
    "            graph.edge(*e[0], **e[1])\n",
    "        else:\n",
    "            graph.edge(*e)\n",
    "    return graph"
   ]
  },
  {
   "cell_type": "code",
   "execution_count": 52,
   "metadata": {
    "collapsed": true
   },
   "outputs": [],
   "source": [
    "def dist(u, w, nodes_pos, A=[], H=[]):\n",
    "    nodes_pos_u = nodes_pos[u]\n",
    "    nodes_pos_w = nodes_pos[w]\n",
    "    length = len(nodes_pos_u)\n",
    "    dist = 0.0\n",
    "    for i in range(length):\n",
    "        dist = dist + (nodes_pos_u[i] - nodes_pos_w[i])**2\n",
    "        \n",
    "    return (dist)**0.5\n",
    "\n",
    "def mf_score(u, w, nodes_pos, A, H):\n",
    "    return numpy.dot(A[int(u)], H.T[int(w)])\n",
    "    \n",
    "def svd_score(u, w, nodes_pos, A, H):\n",
    "    return numpy.dot(A[int(u)], A[int(w)])"
   ]
  },
  {
   "cell_type": "code",
   "execution_count": 53,
   "metadata": {
    "collapsed": true
   },
   "outputs": [],
   "source": [
    "def make_dataset(nodes_pos, pos_set, neg_set, functs, A=[], H=[]):\n",
    "    X = []\n",
    "    Y = []\n",
    "    \n",
    "    for edge in pos_set:\n",
    "        u, w = edge\n",
    "        x = []\n",
    "        for func in functs:\n",
    "            x.append(func(u, w, nodes_pos, A, H))\n",
    "        X.append(x)\n",
    "        Y.append(1)\n",
    "        \n",
    "    for edge in neg_set:\n",
    "        u, w = edge\n",
    "        x = []\n",
    "        for func in functs:\n",
    "            x.append(func(u, w, nodes_pos, A, H))\n",
    "        X.append(x)\n",
    "        Y.append(0)\n",
    "        \n",
    "    X = numpy.array(X)\n",
    "    Y = numpy.array(Y)\n",
    "    return X, Y"
   ]
  },
  {
   "cell_type": "code",
   "execution_count": 54,
   "metadata": {
    "collapsed": true
   },
   "outputs": [],
   "source": [
    "def make_sparse_matrix(train_set, n):\n",
    "    row = []\n",
    "    col = []\n",
    "    data = []\n",
    "    for edge in train_set:\n",
    "        u = int(edge[0])\n",
    "        w = int(edge[1])\n",
    "        row.append(u)\n",
    "        col.append(w)\n",
    "        row.append(w)\n",
    "        col.append(u)\n",
    "        data.append(1)\n",
    "        data.append(1)\n",
    "    return coo_matrix((data, (row, col)), shape=(n, n))"
   ]
  },
  {
   "cell_type": "code",
   "execution_count": 55,
   "metadata": {
    "collapsed": false
   },
   "outputs": [],
   "source": [
    "def read_train(dataset_name):\n",
    "    max_id = 0\n",
    "    file_name = dataset_name + \"/train.in\"\n",
    "    fin_train = open(file_name, 'r')\n",
    "    edges = set()\n",
    "    nodes = set()\n",
    "    for line in fin_train:\n",
    "        line = line.strip()\n",
    "        u, w = line.split()\n",
    "        max_id = max(max_id, int(u))\n",
    "        max_id = max(max_id, int(w))\n",
    "        edges.add((u,w))\n",
    "        nodes.add(u)\n",
    "        nodes.add(w)\n",
    "    fin_train.close()\n",
    "    \n",
    "    return edges, nodes, max_id"
   ]
  },
  {
   "cell_type": "code",
   "execution_count": 56,
   "metadata": {
    "collapsed": true
   },
   "outputs": [],
   "source": [
    "def get_sets(nodes, edges, division=10):\n",
    "    nodes_size = len(nodes)\n",
    "    edges_size = len(edges)\n",
    "    print \"Nodes size: \" + str(nodes_size)\n",
    "    print \"Edges size: \" + str(edges_size)\n",
    "    test_size = int(edges_size * (division / 100.0))\n",
    "    pos_edges = random.sample(edges, test_size)\n",
    "    pos_edges = set(pos_edges)\n",
    "\n",
    "    neg_edges = set()\n",
    "    while len(neg_edges) < test_size:\n",
    "        u = random.sample(nodes, 1)[0]\n",
    "        w = random.sample(nodes, 1)[0]\n",
    "        edge = (str(u),str(w))\n",
    "        if edge not in edges and u != w:\n",
    "            neg_edges.add(edge)\n",
    "        \n",
    "    edges_not_full = edges - pos_edges\n",
    "    print \"Edges not full: \" + str(len(edges_not_full))\n",
    "    \n",
    "    return pos_edges, neg_edges, edges_not_full"
   ]
  },
  {
   "cell_type": "code",
   "execution_count": 57,
   "metadata": {
    "collapsed": true
   },
   "outputs": [],
   "source": [
    "def render_graph(dataset_name, dimension, nodes, edges_not_full):\n",
    "    graph = gv.Graph(format=\"dot\")\n",
    "    graph.engine = 'sfdp'\n",
    "    graph.graph_attr['dim'] = str(dimension)\n",
    "    graph.graph_attr['dimen'] = str(dimension)\n",
    "    graph = add_nodes(graph, nodes)\n",
    "    graph = add_edges(graph, edges_not_full)\n",
    "    file_name = dataset_name + \"/graph\" + str(dimension)\n",
    "    graph.render(file_name, view=False)\n",
    "    \n",
    "    graph.format = \"png\"\n",
    "    graph.render(file_name, view=False)\n",
    "    \n",
    "    return"
   ]
  },
  {
   "cell_type": "code",
   "execution_count": 58,
   "metadata": {
    "collapsed": true
   },
   "outputs": [],
   "source": [
    "def read_edges_dot(dataset_name, dimension):\n",
    "    file_name = dataset_name + \"/graph\" + str(dimension) + \".dot\"\n",
    "    dot_graph = pydot.graph_from_dot_file(file_name)[0]\n",
    "    dot_nodes = dot_graph.get_nodes()\n",
    "    nodes_pos = {}\n",
    "    for node in dot_nodes:\n",
    "        name = node.get_name()\n",
    "        if name != 'node' and name != 'graph':\n",
    "            pos_str = node.get('pos').strip('\"')        \n",
    "            nodes_pos[name] = map(float, pos_str.split(','))\n",
    "    return nodes_pos"
   ]
  },
  {
   "cell_type": "code",
   "execution_count": 59,
   "metadata": {
    "collapsed": true
   },
   "outputs": [],
   "source": [
    "def auc_sfdp(nodes_pos, pos_edges, neg_edges):\n",
    "    X, Y = make_dataset(nodes_pos, pos_edges, neg_edges, [dist])\n",
    "    score = roc_auc_score(Y, X)\n",
    "    print \"SFDP \" + str(score)\n",
    "    return score"
   ]
  },
  {
   "cell_type": "code",
   "execution_count": 60,
   "metadata": {
    "collapsed": true
   },
   "outputs": [],
   "source": [
    "def auc_nmf(edges, nodes_pos, pos_edges, neg_edges, n_components, max_id):\n",
    "    G = make_sparse_matrix(edges, max_id + 1)\n",
    "    model = NMF(n_components=n_components, init='random')\n",
    "    W = model.fit_transform(G)\n",
    "    H = model.components_\n",
    "    \n",
    "    X, Y = make_dataset(nodes_pos, pos_edges, neg_edges, [mf_score], W, H)\n",
    "    \n",
    "    score = roc_auc_score(Y, X)\n",
    "    print \"NMF \" + str(score)\n",
    "    return score"
   ]
  },
  {
   "cell_type": "code",
   "execution_count": 61,
   "metadata": {
    "collapsed": true
   },
   "outputs": [],
   "source": [
    "def auc_svd(edges, nodes_pos, pos_edges, neg_edges, n_components, max_id):\n",
    "    G = make_sparse_matrix(edges, max_id + 1)\n",
    "    #model = TruncatedSVD(n_components=n_components, algorithm='arpack')\n",
    "    #A = model.fit_transform(G)\n",
    "\n",
    "    U, s, Vh = linalg.svds(G.asfptype(), k=n_components)\n",
    "    U = U * s\n",
    "    \n",
    "    X, Y = make_dataset(nodes_pos, pos_edges, neg_edges, [mf_score], U, Vh)\n",
    "    \n",
    "    score = roc_auc_score(Y, X)\n",
    "    print \"SVD \" + str(score)\n",
    "    return score"
   ]
  },
  {
   "cell_type": "code",
   "execution_count": 62,
   "metadata": {
    "collapsed": true
   },
   "outputs": [],
   "source": [
    "def compute_mean(dim, nodes_pos):\n",
    "    values = []\n",
    "\n",
    "    for i in range(dim):\n",
    "        values.append([])\n",
    "\n",
    "    for node in nodes_pos:\n",
    "        for i in range(dim):\n",
    "            values[i].append(nodes_pos[node][i])\n",
    "        \n",
    "    for i in range(dim):\n",
    "        print np.mean(values[i])\n",
    "        print np.std(values[i])\n",
    "        print"
   ]
  },
  {
   "cell_type": "code",
   "execution_count": 63,
   "metadata": {
    "collapsed": false
   },
   "outputs": [],
   "source": [
    "def draw_graph(dataset_name, nodes_pos, edges):\n",
    "    xs = []\n",
    "    ys = []\n",
    "    zs = []\n",
    "\n",
    "    for node in nodes_pos:\n",
    "        xs.append(nodes_pos[node][0])\n",
    "        ys.append(nodes_pos[node][1])\n",
    "        zs.append(nodes_pos[node][2])\n",
    "    \n",
    "    fig = plt.figure()\n",
    "    ax = fig.add_subplot(111, projection='3d')\n",
    "\n",
    "    ax.scatter(xs, ys, zs, s=2.0, c='b', marker='o')\n",
    "\n",
    "    for edge in edges:\n",
    "        u = edge[0]\n",
    "        w = edge[1]\n",
    "        ax.plot([nodes_pos[u][0], nodes_pos[w][0]], [nodes_pos[u][1], nodes_pos[w][1]],zs=[nodes_pos[u][2], nodes_pos[w][2]], linewidth=1.0)\n",
    "\n",
    "    ax.set_xlabel('X Axis')\n",
    "    ax.set_ylabel('Y Axis')\n",
    "    ax.set_zlabel('Z Axis')\n",
    "\n",
    "    file_name = dataset_name + \"/3d.png\"\n",
    "    #plt.show()\n",
    "    fig.savefig(file_name)\n",
    "    plt.close(\"all\")"
   ]
  },
  {
   "cell_type": "code",
   "execution_count": 64,
   "metadata": {
    "collapsed": true
   },
   "outputs": [],
   "source": [
    "def draw_graph_svd(dataset_name, A, edges):\n",
    "    xs = []\n",
    "    ys = []\n",
    "    zs = []\n",
    "    \n",
    "    nodes = set()\n",
    "    for edge in edges:\n",
    "        u = int(edge[0])\n",
    "        w = int(edge[1])\n",
    "        nodes.add(u)\n",
    "        nodes.add(u)\n",
    "    \n",
    "    for node in nodes:\n",
    "        xs.append(A[node][0])\n",
    "        ys.append(A[node][1])\n",
    "        zs.append(A[node][2])\n",
    "    \n",
    "    fig = plt.figure()\n",
    "    ax = fig.add_subplot(111, projection='3d')\n",
    "\n",
    "    ax.scatter(xs, ys, zs, s=2.0, c='b', marker='o')\n",
    "\n",
    "    for edge in edges:\n",
    "        u = int(edge[0])\n",
    "        w = int(edge[1])\n",
    "        ax.plot([A[u][0], A[w][0]], [A[u][1], A[w][1]], zs=[A[u][2], A[w][2]], linewidth=1.0)\n",
    "\n",
    "    ax.set_xlabel('X Axis')\n",
    "    ax.set_ylabel('Y Axis')\n",
    "    ax.set_zlabel('Z Axis')\n",
    "\n",
    "\n",
    "    file_name = dataset_name + \"/3d_svd.png\"\n",
    "\n",
    "    #plt.show()\n",
    "    fig.savefig(file_name)\n",
    "    plt.close(\"all\")"
   ]
  },
  {
   "cell_type": "code",
   "execution_count": 65,
   "metadata": {
    "collapsed": false
   },
   "outputs": [],
   "source": [
    "def run_exp(dataset_name, dimension, n_components, division):\n",
    "    print \"Read train\"\n",
    "    edges, nodes, max_id = read_train(dataset_name)\n",
    "    \n",
    "    print \"Get sets\"\n",
    "    pos_edges, neg_edges, edges_not_full = get_sets(nodes, edges, division)\n",
    "    \n",
    "    print \"Render graph\"\n",
    "    print strftime(\"%Y-%m-%d %H:%M:%S\", gmtime())\n",
    "    render_graph(dataset_name, dimension, nodes, edges_not_full)\n",
    "    \n",
    "    print \"Read edges\"\n",
    "    print strftime(\"%Y-%m-%d %H:%M:%S\", gmtime())\n",
    "    nodes_pos = read_edges_dot(dataset_name, dimension)\n",
    "    \n",
    "    print \"Compute mean and std\"\n",
    "    compute_mean(dimension, nodes_pos)\n",
    "    \n",
    "    if dimension == 3:\n",
    "        print \"Draw graph\"\n",
    "        draw_graph(dataset_name, nodes_pos, edges)\n",
    "    \n",
    "    print \"SFDP\"\n",
    "    print strftime(\"%Y-%m-%d %H:%M:%S\", gmtime())\n",
    "    auc_sfdp(nodes_pos, pos_edges, neg_edges)\n",
    "    \n",
    "    print \"NMF\"\n",
    "    print strftime(\"%Y-%m-%d %H:%M:%S\", gmtime())\n",
    "    auc_nmf(edges, nodes_pos, pos_edges, neg_edges, n_components, max_id)\n",
    "    \n",
    "    print \"SVD\"\n",
    "    print strftime(\"%Y-%m-%d %H:%M:%S\", gmtime())\n",
    "    auc_svd(edges, nodes_pos, pos_edges, neg_edges, n_components, max_id)\n",
    "    \n",
    "    return"
   ]
  },
  {
   "cell_type": "code",
   "execution_count": 89,
   "metadata": {
    "collapsed": true
   },
   "outputs": [],
   "source": [
    "def run_division_exp(dataset_name, num_exps, divisions, dimension):\n",
    "    div_scores_sfdp = {}\n",
    "    div_scores_nmf = {}\n",
    "    div_scores_svd = {}\n",
    "    for div in divisions:\n",
    "            div_scores_sfdp[div] = np.array([])\n",
    "            div_scores_nmf[div] = np.array([])\n",
    "            div_scores_svd[div] = np.array([])\n",
    "            \n",
    "    edges, nodes, max_id = read_train(dataset_name)\n",
    "    \n",
    "    for div in divisions:\n",
    "        print \"Division \" + str(div) + \"/%\"\n",
    "        for i in range(num_exps):\n",
    "        \n",
    "            print \"Launch \" + str(i)\n",
    "            print strftime(\"%Y-%m-%d %H:%M:%S\", gmtime())\n",
    "        \n",
    "            pos_edges, neg_edges, edges_not_full = get_sets(nodes, edges, div)\n",
    "    \n",
    "            render_graph(dataset_name, dimension, nodes, edges_not_full)\n",
    "            nodes_pos = read_edges_dot(dataset_name, dimension)\n",
    "            \n",
    "            sfdp_scores = auc_sfdp(nodes_pos, pos_edges, neg_edges)\n",
    "            div_scores_sfdp[div] = np.append(div_scores_sfdp[div], sfdp_scores)\n",
    "    \n",
    "            nmf_scores = auc_nmf(edges, nodes_pos, pos_edges, neg_edges, 10, max_id)\n",
    "            div_scores_nmf[div] = np.append(div_scores_nmf[div], nmf_scores)\n",
    "    \n",
    "            svd_scores = auc_svd(edges, nodes_pos, pos_edges, neg_edges, 30, max_id)\n",
    "            div_scores_svd[div] = np.append(div_scores_svd[div], svd_scores)\n",
    "    \n",
    "    return div_scores_sfdp, div_scores_nmf, div_scores_svd"
   ]
  },
  {
   "cell_type": "code",
   "execution_count": 96,
   "metadata": {
    "collapsed": true
   },
   "outputs": [],
   "source": [
    "def save_scores_div(dataset_name, dimension, divisions, div_scores_sfdp, div_scores_nmf, div_scores_svd):\n",
    "    scores_sfdp = []\n",
    "    scores_nmf = []\n",
    "    scores_svd = []\n",
    "    shift = 2\n",
    "    divisions_nmf = []\n",
    "    divisions_svd = []\n",
    "    err_sfdp = []\n",
    "    err_nmf = []\n",
    "    err_svd = []\n",
    "    \n",
    "    for div in divisions:\n",
    "        scores_sfdp.append(div_scores_sfdp[div].mean())\n",
    "        scores_nmf.append(div_scores_nmf[div].mean())\n",
    "        scores_svd.append(div_scores_svd[div].mean())\n",
    "        divisions_nmf.append(div - shift)\n",
    "        divisions_svd.append(div + shift)\n",
    "        err_sfdp.append(div_scores_sfdp[div].std() * 2)\n",
    "        err_nmf.append(div_scores_nmf[div].std() * 2)\n",
    "        err_svd.append(div_scores_svd[div].std() * 2)\n",
    "    \n",
    "    fig, ax = plt.subplots( nrows=1, ncols=1 )\n",
    "    plt.errorbar(x=divisions, y=scores_sfdp, yerr=err_sfdp, c='r', marker='o', linestyle=None, markersize=5, linewidth=0, elinewidth=1)\n",
    "    plt.errorbar(x=divisions_nmf, y=scores_nmf, yerr=err_nmf, c='g', marker='o', linestyle=None, markersize=5, linewidth=0, elinewidth=1)\n",
    "    plt.errorbar(x=divisions_svd, y=scores_svd, yerr=err_svd, c='b', marker='o', linestyle=None, markersize=5, linewidth=0, elinewidth=1)\n",
    "       \n",
    "    plt.xlim([0,100])\n",
    "    plt.xticks(np.arange(10, 100, 10))\n",
    "    \n",
    "    ax.set_xlabel('Test set size, %')\n",
    "    ax.set_ylabel('AUC')\n",
    "    \n",
    "    sfdp = mlines.Line2D([], [], color='red')\n",
    "    nmf = mlines.Line2D([], [], color='green')\n",
    "    svd = mlines.Line2D([], [], color='blue')\n",
    "    ax.legend([sfdp, nmf, svd], [\"sfdp\", \"nmf\", \"svd\"], fontsize = 'small')\n",
    "    plt.legend()\n",
    "    \n",
    "    file_name = dataset_name + \"/divisions\"  + str(dimension) + \".png\"\n",
    "    fig.savefig(file_name)\n",
    "    plt.close(\"all\")"
   ]
  },
  {
   "cell_type": "code",
   "execution_count": 91,
   "metadata": {
    "collapsed": true
   },
   "outputs": [],
   "source": [
    "def run_dim_exp(dataset_name, num_exps, dimensions, to_draw = False):\n",
    "    dim_scores_sfdp = {}\n",
    "    dim_scores_nmf = {}\n",
    "    dim_scores_svd = {}\n",
    "    for dimension in dimensions:\n",
    "            dim_scores_sfdp[dimension] = np.array([])\n",
    "            dim_scores_nmf[dimension] = np.array([])\n",
    "            dim_scores_svd[dimension] = np.array([])\n",
    "            \n",
    "    edges, nodes, max_id = read_train(dataset_name)\n",
    "    \n",
    "    for dimension in dimensions:\n",
    "        print \"Dimension \" + str(dimension)\n",
    "        \n",
    "        for i in range(num_exps):\n",
    "            print \"Launch \" + str(i)\n",
    "            print strftime(\"%Y-%m-%d %H:%M:%S\", gmtime())\n",
    "            \n",
    "            pos_edges, neg_edges, edges_not_full = get_sets(nodes, edges)\n",
    "            render_graph(dataset_name, dimension, nodes, edges_not_full)\n",
    "            nodes_pos = read_edges_dot(dataset_name, dimension)\n",
    "            \n",
    "            sfdp_scores = auc_sfdp(nodes_pos, pos_edges, neg_edges)\n",
    "            dim_scores_sfdp[dimension] = np.append(dim_scores_sfdp[dimension], sfdp_scores)\n",
    "    \n",
    "            nmf_scores = auc_nmf(edges, nodes_pos, pos_edges, neg_edges, dimension, max_id)\n",
    "            dim_scores_nmf[dimension] = np.append(dim_scores_nmf[dimension], nmf_scores)\n",
    "    \n",
    "            svd_scores = auc_svd(edges, nodes_pos, pos_edges, neg_edges, dimension, max_id)\n",
    "            dim_scores_svd[dimension] = np.append(dim_scores_svd[dimension], svd_scores)\n",
    "    \n",
    "            if dimension == 3:\n",
    "                print \"Draw graph\"\n",
    "                draw_graph(dataset_name, nodes_pos, edges)\n",
    "                #draw_graph_svd(dataset_name, A, edges)\n",
    "    \n",
    "    return dim_scores_sfdp, dim_scores_nmf, dim_scores_svd"
   ]
  },
  {
   "cell_type": "code",
   "execution_count": 94,
   "metadata": {
    "collapsed": false
   },
   "outputs": [],
   "source": [
    "def save_scores(dataset_name, dimensions, dim_scores_sfdp, dim_scores_nmf, dim_scores_svd):\n",
    "    scores_sfdp = []\n",
    "    scores_nmf = []\n",
    "    scores_svd = []\n",
    "    shift = 0.15\n",
    "    dimensions_nmf = []\n",
    "    dimensions_svd = []\n",
    "    err_sfdp = []\n",
    "    err_nmf = []\n",
    "    err_svd = []\n",
    "    \n",
    "    for dim in dimensions:\n",
    "        scores_sfdp.append(dim_scores_sfdp[dim].mean())\n",
    "        scores_nmf.append(dim_scores_nmf[dim].mean())\n",
    "        scores_svd.append(dim_scores_svd[dim].mean())\n",
    "        dimensions_nmf.append(dim - shift)\n",
    "        dimensions_svd.append(dim + shift)\n",
    "        err_sfdp.append(dim_scores_sfdp[dim].std() * 2)\n",
    "        err_nmf.append(dim_scores_nmf[dim].std() * 2)\n",
    "        err_svd.append(dim_scores_svd[dim].std() * 2)\n",
    "\n",
    "    \n",
    "    fig, ax = plt.subplots( nrows=1, ncols=1 )\n",
    "    \n",
    "    plt.errorbar(x=dimensions, y=scores_sfdp, yerr=err_sfdp, c='r', marker='o', linestyle=None, markersize=5, linewidth=0, elinewidth=1)\n",
    "    plt.errorbar(x=dimensions_nmf, y=scores_nmf, yerr=err_nmf,c='g', marker='o', linestyle=None, markersize=5, linewidth=0, elinewidth=1)\n",
    "    plt.errorbar(x=dimensions_svd, y=scores_svd, yerr=err_svd,c='b', marker='o', linestyle=None, markersize=5, linewidth=0, elinewidth=1)\n",
    "        \n",
    "    plt.xlim([1,11])\n",
    "    plt.xticks(np.arange(2, 11, 1))\n",
    "    \n",
    "    ax.set_xlabel('Dimensions')\n",
    "    ax.set_ylabel('AUC')\n",
    "    \n",
    "    sfdp = mlines.Line2D([], [], color='red')\n",
    "    nmf = mlines.Line2D([], [], color='green')\n",
    "    svd = mlines.Line2D([], [], color='blue')\n",
    "    ax.legend([sfdp, nmf, svd], [\"sfdp\", \"nmf\", \"svd\"], fontsize = 'small')\n",
    "    plt.legend()\n",
    "    \n",
    "    file_name = dataset_name + \"/dimensions.png\"\n",
    "    fig.savefig(file_name)\n",
    "    plt.close(\"all\")"
   ]
  },
  {
   "cell_type": "code",
   "execution_count": null,
   "metadata": {
    "collapsed": false
   },
   "outputs": [
    {
     "name": "stdout",
     "output_type": "stream",
     "text": [
      "airport\n",
      "Dimension 2\n",
      "Launch 0\n",
      "2017-05-12 16:54:01\n",
      "Nodes size: 1574\n",
      "Edges size: 28236\n",
      "Edges not full: 25413\n"
     ]
    }
   ],
   "source": [
    "#dataset_names = [\"airport\", \"Ca-HelpTh\", \"chicago\", \"Conflict\", \"euroroad\", \"EuroSiS\", \"PowerGrid\"]\n",
    "#dimensions = [2, 3, 4, 5, 6, 7, 8 ,9, 10]\n",
    "\n",
    "#dataset_names = [\"airport\", \"Ca-HelpTh\", \"EuroSiS\", \"PowerGrid\"]\n",
    "#dimensions = [2, 3, 4, 5, 6, 7, 8 ,9, 10]\n",
    "dataset_names = [\"airport\"]\n",
    "dimensions = [2, 3, 4, 5, 6, 7, 8 ,9, 10]\n",
    "\n",
    "for dataset_name in dataset_names:\n",
    "    print dataset_name\n",
    "    dim_scores_sfdp, dim_scores_nmf, dim_scores_svd = run_dim_exp(dataset_name, 5, dimensions, False)\n",
    "    print \"saving\"\n",
    "    save_scores(dataset_name, dimensions, dim_scores_sfdp, dim_scores_nmf, dim_scores_svd)"
   ]
  },
  {
   "cell_type": "code",
   "execution_count": null,
   "metadata": {
    "collapsed": false
   },
   "outputs": [],
   "source": [
    "#dataset_names = [\"airport\", \"Ca-HelpTh\", \"chicago\", \"Conflict\", \"euroroad\", \"EuroSiS\", \"PowerGrid\"]\n",
    "#dimensions = [2, 3, 4, 10]\n",
    "#dataset_names = [\"airport\", \"Ca-HelpTh\", \"EuroSiS\", \"PowerGrid\"]\n",
    "dataset_names = [\"airport\", \"EuroSiS\"]\n",
    "divisions = [10, 20, 30, 50, 60, 70, 80, 90]\n",
    "#divisions = [10, 50, 90]\n",
    "dimensions = [2, 3]\n",
    "n_components = [30]\n",
    "\n",
    "for dataset_name in dataset_names:\n",
    "    for dimension in dimensions:\n",
    "        for component in n_components:\n",
    "            print \"Dataset: \" + dataset_name\n",
    "            print \"Dim: \" + str(dimension)\n",
    "            print \"Components: \" + str(component)\n",
    "            print\n",
    "            div_scores_sfdp, div_scores_nmf, div_scores_svd = run_division_exp(dataset_name, 5, divisions, dimension)\n",
    "            save_scores_div(dataset_name, dimension, divisions, div_scores_sfdp, div_scores_nmf, div_scores_svd)\n",
    "            print \"---------------------------\"\n",
    "            print\n",
    "            print"
   ]
  },
  {
   "cell_type": "code",
   "execution_count": null,
   "metadata": {
    "collapsed": true
   },
   "outputs": [],
   "source": []
  }
 ],
 "metadata": {
  "kernelspec": {
   "display_name": "Python 2",
   "language": "python",
   "name": "python2"
  },
  "language_info": {
   "codemirror_mode": {
    "name": "ipython",
    "version": 2
   },
   "file_extension": ".py",
   "mimetype": "text/x-python",
   "name": "python",
   "nbconvert_exporter": "python",
   "pygments_lexer": "ipython2",
   "version": "2.7.11rc1"
  }
 },
 "nbformat": 4,
 "nbformat_minor": 0
}
