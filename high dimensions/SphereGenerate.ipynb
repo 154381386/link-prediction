{
 "cells": [
  {
   "cell_type": "code",
   "execution_count": 1,
   "metadata": {
    "collapsed": true
   },
   "outputs": [],
   "source": [
    "import numpy as np\n",
    "import math"
   ]
  },
  {
   "cell_type": "code",
   "execution_count": 4,
   "metadata": {
    "collapsed": true
   },
   "outputs": [],
   "source": [
    "def generate_sphere(dimension, size):\n",
    "    coords = np.zeros(dimension)\n",
    "\n",
    "    for i in range(0, size):\n",
    "        radius = 0.0\n",
    "        vector = np.random.normal(0, 1, dimension)\n",
    "\n",
    "        for j in vector:\n",
    "            radius += j**2\n",
    "\n",
    "        radius = math.sqrt(radius)\n",
    "        new_vector = vector / radius\n",
    "\n",
    "        coords = np.vstack([coords, new_vector])\n",
    "\n",
    "    return coords[1:]\n",
    "\n",
    "def get_edges(coords, threshold, weights):\n",
    "    edges = []\n",
    "\n",
    "    for i in range(0, len(coords)):\n",
    "        for j in range(i + 1, len(coords)):\n",
    "            x = coords[i]\n",
    "            y = coords[j]\n",
    "            dot = np.dot(x, y)\n",
    "\n",
    "            value = dot * (weights[i] * weights[j])\n",
    "\n",
    "            if value >= threshold:\n",
    "                 edges += [(i, j)]\n",
    "\n",
    "    return edges\n",
    "\n",
    "def get_weights(size, alpha, mode):\n",
    "\n",
    "    weights = np.random.pareto(alpha, size) + mode\n",
    "\n",
    "    return weights\n",
    "\n",
    "def get_graph(dimension, size, threshold, alpha, mode):\n",
    "    coords = generate_sphere(dimension=dimension, size=size)\n",
    "    #weights = get_weights(size=size, alpha=alpha, mode=mode)\n",
    "    weights = [1] * size\n",
    "    edges = get_edges(coords=coords, threshold=threshold, weights=weights)\n",
    "\n",
    "    return edges, coords, weights\n"
   ]
  },
  {
   "cell_type": "code",
   "execution_count": 11,
   "metadata": {
    "collapsed": false
   },
   "outputs": [
    {
     "data": {
      "text/plain": [
       "True"
      ]
     },
     "execution_count": 11,
     "metadata": {},
     "output_type": "execute_result"
    }
   ],
   "source": [
    "edges, coords, weights = get_graph(dimension=3, size=5000, \n",
    "                                            threshold=0.995, alpha=3.0, mode=0.0)\n",
    "\n",
    "with open('sphere_triang.in', 'w') as f:\n",
    "    for edge in edges:\n",
    "        u = edge[0]\n",
    "        w = edge[1]\n",
    "        s = str(u) + \" \" + str(w) + \"\\n\"\n",
    "        f.write(s)\n",
    "    \n",
    "f.closed"
   ]
  },
  {
   "cell_type": "code",
   "execution_count": null,
   "metadata": {
    "collapsed": true
   },
   "outputs": [],
   "source": []
  }
 ],
 "metadata": {
  "kernelspec": {
   "display_name": "Python 2",
   "language": "python",
   "name": "python2"
  },
  "language_info": {
   "codemirror_mode": {
    "name": "ipython",
    "version": 2
   },
   "file_extension": ".py",
   "mimetype": "text/x-python",
   "name": "python",
   "nbconvert_exporter": "python",
   "pygments_lexer": "ipython2",
   "version": "2.7.11rc1"
  }
 },
 "nbformat": 4,
 "nbformat_minor": 0
}
