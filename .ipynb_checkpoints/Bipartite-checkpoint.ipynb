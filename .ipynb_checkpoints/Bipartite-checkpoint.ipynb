{
 "cells": [
  {
   "cell_type": "code",
   "execution_count": 1,
   "metadata": {
    "collapsed": true,
    "deletable": true,
    "editable": true
   },
   "outputs": [],
   "source": [
    "file = 'data/bipartite/movielens/train.in'\n",
    "N = 5"
   ]
  },
  {
   "cell_type": "code",
   "execution_count": 2,
   "metadata": {
    "collapsed": false,
    "deletable": true,
    "editable": true
   },
   "outputs": [],
   "source": [
    "import tools"
   ]
  },
  {
   "cell_type": "code",
   "execution_count": 3,
   "metadata": {
    "collapsed": false,
    "deletable": true,
    "editable": true
   },
   "outputs": [],
   "source": [
    "train_set, nodes, poss_set, neg_set = tools.sample_bipartite(file, N)"
   ]
  },
  {
   "cell_type": "markdown",
   "metadata": {
    "deletable": true,
    "editable": true
   },
   "source": [
    "# Choose poss set with less components increasing"
   ]
  },
  {
   "cell_type": "code",
   "execution_count": 69,
   "metadata": {
    "collapsed": false,
    "deletable": true,
    "editable": true
   },
   "outputs": [],
   "source": [
    "from graph_tool.all import *\n",
    "g = Graph(directed=False)\n",
    "g.add_vertex(max(nodes) + 1)\n",
    "for edge in train_set:\n",
    "    u, w = map(int, edge.split())\n",
    "    g.add_edge(g.vertex(u), g.vertex(w))"
   ]
  },
  {
   "cell_type": "code",
   "execution_count": 70,
   "metadata": {
    "collapsed": true,
    "deletable": true,
    "editable": true
   },
   "outputs": [],
   "source": [
    "train_set_2 = set()\n",
    "for edge in train_set:\n",
    "    u, w = map(int, edge.split())\n",
    "    if g.vertex(u).out_degree() > 1 and g.vertex(w).out_degree() > 1:\n",
    "        train_set_2.add(edge)"
   ]
  },
  {
   "cell_type": "code",
   "execution_count": 71,
   "metadata": {
    "collapsed": false,
    "deletable": true,
    "editable": true
   },
   "outputs": [
    {
     "data": {
      "text/plain": [
       "724"
      ]
     },
     "execution_count": 71,
     "metadata": {},
     "output_type": "execute_result"
    }
   ],
   "source": [
    "len(train_set_2)"
   ]
  },
  {
   "cell_type": "code",
   "execution_count": 72,
   "metadata": {
    "collapsed": true,
    "deletable": true,
    "editable": true
   },
   "outputs": [],
   "source": [
    "poss_set = tools.sample_structural_poss(train_set_2, int(N * len(train_set) / 100.))"
   ]
  },
  {
   "cell_type": "markdown",
   "metadata": {
    "deletable": true,
    "editable": true
   },
   "source": [
    "# Get coordinates"
   ]
  },
  {
   "cell_type": "code",
   "execution_count": 4,
   "metadata": {
    "collapsed": false,
    "deletable": true,
    "editable": true
   },
   "outputs": [
    {
     "data": {
      "text/plain": [
       "<generator object <genexpr> at 0x7f09185d6e60>"
      ]
     },
     "execution_count": 4,
     "metadata": {},
     "output_type": "execute_result"
    }
   ],
   "source": [
    "from graph_tool.all import *\n",
    "g = Graph(directed=False)\n",
    "g.add_vertex(max(nodes) + 1)"
   ]
  },
  {
   "cell_type": "code",
   "execution_count": 5,
   "metadata": {
    "collapsed": false,
    "deletable": true,
    "editable": true
   },
   "outputs": [
    {
     "name": "stdout",
     "output_type": "stream",
     "text": [
      "0.950000449906\n"
     ]
    }
   ],
   "source": [
    "a = 0\n",
    "for edge in train_set:\n",
    "    if edge not in poss_set:\n",
    "        a += 1\n",
    "        u, w = map(int, edge.split())\n",
    "        g.add_edge(g.vertex(u), g.vertex(w))\n",
    "print 1.0 * a / len(train_set)"
   ]
  },
  {
   "cell_type": "code",
   "execution_count": null,
   "metadata": {
    "collapsed": false,
    "deletable": true,
    "editable": true
   },
   "outputs": [],
   "source": []
  },
  {
   "cell_type": "code",
   "execution_count": 6,
   "metadata": {
    "collapsed": false,
    "deletable": true,
    "editable": true
   },
   "outputs": [],
   "source": [
    "is_bi, part = graph_tool.topology.is_bipartite(g, partition=True)"
   ]
  },
  {
   "cell_type": "code",
   "execution_count": 7,
   "metadata": {
    "collapsed": false,
    "deletable": true,
    "editable": true
   },
   "outputs": [
    {
     "data": {
      "text/plain": [
       "True"
      ]
     },
     "execution_count": 7,
     "metadata": {},
     "output_type": "execute_result"
    }
   ],
   "source": [
    "is_bi"
   ]
  },
  {
   "cell_type": "code",
   "execution_count": 8,
   "metadata": {
    "collapsed": true,
    "deletable": true,
    "editable": true
   },
   "outputs": [],
   "source": [
    "groups = g.new_vertex_property(\"int\")"
   ]
  },
  {
   "cell_type": "code",
   "execution_count": 9,
   "metadata": {
    "collapsed": false,
    "deletable": true,
    "editable": true
   },
   "outputs": [],
   "source": [
    "for u in g.vertices():\n",
    "    groups[u] = part[u]"
   ]
  },
  {
   "cell_type": "code",
   "execution_count": null,
   "metadata": {
    "collapsed": false
   },
   "outputs": [
    {
     "name": "stdout",
     "output_type": "stream",
     "text": [
      "libgraph_tool_layout.sfdp verbose:  False bipartite:  False\n",
      "libgraph_tool_layout.sfdp verbose:  False bipartite:  False\n",
      "libgraph_tool_layout.sfdp verbose:  False bipartite:  False\n",
      "libgraph_tool_layout.sfdp verbose:  False bipartite:  False\n",
      "libgraph_tool_layout.sfdp verbose:  False bipartite:  False\n",
      "libgraph_tool_layout.sfdp verbose:  False bipartite:  False\n",
      "libgraph_tool_layout.sfdp verbose:  False bipartite:  False\n",
      "libgraph_tool_layout.sfdp verbose:  False bipartite:  False\n",
      "libgraph_tool_layout.sfdp verbose:  False bipartite:  False\n",
      "libgraph_tool_layout.sfdp verbose:  False bipartite:  False\n",
      "libgraph_tool_layout.sfdp verbose:  False bipartite:  False\n",
      "libgraph_tool_layout.sfdp verbose:  False bipartite:  False\n",
      "libgraph_tool_layout.sfdp verbose:  False bipartite:  False\n",
      "libgraph_tool_layout.sfdp verbose:  False bipartite:  False\n",
      "libgraph_tool_layout.sfdp verbose:  False bipartite:  False\n"
     ]
    }
   ],
   "source": [
    "pos_default = sfdp_layout(g)"
   ]
  },
  {
   "cell_type": "code",
   "execution_count": 10,
   "metadata": {
    "collapsed": false,
    "deletable": true,
    "editable": true
   },
   "outputs": [
    {
     "name": "stdout",
     "output_type": "stream",
     "text": [
      "Positioning level: 0 9747 with K = 51.3525738969 ...\n",
      "libgraph_tool_layout.sfdp verbose:  True bipartite:  False\n",
      "avg edge distance: 70.8517259619\n"
     ]
    }
   ],
   "source": [
    "pos = sfdp_layout(g, groups=groups, bipartite=False, verbose=True)"
   ]
  },
  {
   "cell_type": "code",
   "execution_count": 11,
   "metadata": {
    "collapsed": false,
    "deletable": true,
    "editable": true
   },
   "outputs": [
    {
     "name": "stdout",
     "output_type": "stream",
     "text": [
      "Positioning level: 0 9747 with K = 51.3807420949 ...\n",
      "libgraph_tool_layout.sfdp verbose:  True bipartite:  True\n",
      "avg edge distance: 61.3127179019\n"
     ]
    }
   ],
   "source": [
    "pos_bip = sfdp_layout(g, groups=groups, bipartite=True, verbose=True)"
   ]
  },
  {
   "cell_type": "code",
   "execution_count": 12,
   "metadata": {
    "collapsed": false,
    "deletable": true,
    "editable": true
   },
   "outputs": [],
   "source": [
    "%matplotlib inline\n",
    "\n",
    "#graph_draw(g)"
   ]
  },
  {
   "cell_type": "code",
   "execution_count": 13,
   "metadata": {
    "collapsed": false,
    "deletable": true,
    "editable": true
   },
   "outputs": [],
   "source": [
    "%matplotlib inline\n",
    "\n",
    "#graph_draw(g, pos=pos, vertex_fill_color=groups)"
   ]
  },
  {
   "cell_type": "code",
   "execution_count": 14,
   "metadata": {
    "collapsed": false,
    "deletable": true,
    "editable": true
   },
   "outputs": [],
   "source": [
    "%matplotlib inline\n",
    "\n",
    "#graph_draw(g, pos=pos_bip, vertex_fill_color=groups)"
   ]
  },
  {
   "cell_type": "code",
   "execution_count": 15,
   "metadata": {
    "collapsed": true,
    "deletable": true,
    "editable": true
   },
   "outputs": [],
   "source": [
    "from sklearn.metrics import roc_auc_score"
   ]
  },
  {
   "cell_type": "code",
   "execution_count": null,
   "metadata": {
    "collapsed": true
   },
   "outputs": [],
   "source": [
    "features = tools.TopologicalFeatures(g, pos_default, gap=0)\n",
    "X, Y = tools.make_dataset(poss_set, neg_set, \n",
    "                    [features.dist])\n",
    "print \"sfdp default: \", roc_auc_score(Y, X)"
   ]
  },
  {
   "cell_type": "code",
   "execution_count": 16,
   "metadata": {
    "collapsed": false,
    "deletable": true,
    "editable": true
   },
   "outputs": [
    {
     "data": {
      "text/plain": [
       "0.88776882895766374"
      ]
     },
     "execution_count": 16,
     "metadata": {},
     "output_type": "execute_result"
    }
   ],
   "source": [
    "features = tools.TopologicalFeatures(g, pos_bip, gap=0)\n",
    "X, Y = tools.make_dataset(poss_set, neg_set, \n",
    "                    [features.dist])\n",
    "print \"sfdp bipartite simple: \", roc_auc_score(Y, X)"
   ]
  },
  {
   "cell_type": "code",
   "execution_count": 17,
   "metadata": {
    "collapsed": false,
    "deletable": true,
    "editable": true
   },
   "outputs": [
    {
     "data": {
      "text/plain": [
       "0.81469314935253312"
      ]
     },
     "execution_count": 17,
     "metadata": {},
     "output_type": "execute_result"
    }
   ],
   "source": [
    "features = tools.TopologicalFeatures(g, pos)\n",
    "X, Y = tools.make_dataset(poss_set, neg_set, \n",
    "                    [features.dist])\n",
    "print \"sfdp default groups: \",roc_auc_score(Y, X)"
   ]
  },
  {
   "cell_type": "code",
   "execution_count": 18,
   "metadata": {
    "collapsed": false,
    "deletable": true,
    "editable": true
   },
   "outputs": [
    {
     "data": {
      "text/plain": [
       "0.90201187416985706"
      ]
     },
     "execution_count": 18,
     "metadata": {},
     "output_type": "execute_result"
    }
   ],
   "source": [
    "features = tools.TopologicalFeatures(g, pos)\n",
    "X, Y = tools.make_dataset(poss_set, neg_set, \n",
    "                    [features.preferential_attachment])\n",
    "roc_auc_score(Y, X)"
   ]
  },
  {
   "cell_type": "code",
   "execution_count": 20,
   "metadata": {
    "collapsed": false,
    "deletable": true,
    "editable": true
   },
   "outputs": [
    {
     "data": {
      "text/plain": [
       "0.92558931325112703"
      ]
     },
     "execution_count": 20,
     "metadata": {},
     "output_type": "execute_result"
    }
   ],
   "source": [
    "from sklearn.decomposition import NMF\n",
    "model = NMF(n_components=10, init='random', random_state=0)\n",
    "\n",
    "matrix = tools.make_sparse_matrix(train_set, nodes, poss_set)\n",
    "\n",
    "features = tools.MFFeatures(model, matrix)\n",
    "X, Y = tools.make_dataset(poss_set, neg_set, \n",
    "                    [features.score])\n",
    "roc_auc_score(Y, X)"
   ]
  },
  {
   "cell_type": "code",
   "execution_count": 21,
   "metadata": {
    "collapsed": false,
    "deletable": true,
    "editable": true
   },
   "outputs": [
    {
     "data": {
      "text/plain": [
       "0.94348738170782154"
      ]
     },
     "execution_count": 21,
     "metadata": {},
     "output_type": "execute_result"
    }
   ],
   "source": [
    "from scipy.sparse import linalg\n",
    "import numpy\n",
    "\n",
    "matrix = tools.make_sparse_matrix(train_set, nodes, poss_set)\n",
    "U, s, Vh = linalg.svds(matrix.asfptype(), k=30)\n",
    "\n",
    "def score(u, w):\n",
    "    return numpy.dot(U[u] * s, Vh.T[w])\n",
    "\n",
    "features = tools.MFFeatures(model, matrix)\n",
    "X, Y = tools.make_dataset(poss_set, neg_set, \n",
    "                    [score])\n",
    "roc_auc_score(Y, X)"
   ]
  },
  {
   "cell_type": "code",
   "execution_count": null,
   "metadata": {
    "collapsed": true
   },
   "outputs": [],
   "source": []
  }
 ],
 "metadata": {
  "kernelspec": {
   "display_name": "Python 2",
   "language": "python",
   "name": "python2"
  },
  "language_info": {
   "codemirror_mode": {
    "name": "ipython",
    "version": 2
   },
   "file_extension": ".py",
   "mimetype": "text/x-python",
   "name": "python",
   "nbconvert_exporter": "python",
   "pygments_lexer": "ipython2",
   "version": "2.7.12"
  }
 },
 "nbformat": 4,
 "nbformat_minor": 2
}
