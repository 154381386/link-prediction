{
 "cells": [
  {
   "cell_type": "markdown",
   "metadata": {},
   "source": [
    "# Make graph"
   ]
  },
  {
   "cell_type": "code",
   "execution_count": 1,
   "metadata": {
    "collapsed": true
   },
   "outputs": [],
   "source": [
    "file = \"out.opsahl-collaboration\""
   ]
  },
  {
   "cell_type": "code",
   "execution_count": 2,
   "metadata": {
    "collapsed": false
   },
   "outputs": [
    {
     "name": "stdout",
     "output_type": "stream",
     "text": [
      "% bip unweighted\r\n",
      "% 58595 16726 22015\r\n",
      "1 1 \r\n",
      "1 2 \r\n",
      "1 3 \r\n",
      "1 4 \r\n",
      "1 5 \r\n",
      "1 6 \r\n",
      "1 7 \r\n",
      "1 8 \r\n"
     ]
    }
   ],
   "source": [
    "! head out.opsahl-collaboration"
   ]
  },
  {
   "cell_type": "code",
   "execution_count": 3,
   "metadata": {
    "collapsed": true
   },
   "outputs": [],
   "source": [
    "FIN = open(file, 'r')\n",
    "project_set = set()\n",
    "user_set = set()\n",
    "edges = set()"
   ]
  },
  {
   "cell_type": "code",
   "execution_count": 4,
   "metadata": {
    "collapsed": false
   },
   "outputs": [],
   "source": [
    "for line in FIN:\n",
    "    if '%' in line or not line:\n",
    "        continue\n",
    "    u, w = map(int, line.strip().split())\n",
    "    user_set.add(u)\n",
    "    project_set.add(w)\n",
    "    edges.add(str(u) + ' ' + str(56519 + w))"
   ]
  },
  {
   "cell_type": "code",
   "execution_count": 5,
   "metadata": {
    "collapsed": false
   },
   "outputs": [
    {
     "data": {
      "text/plain": [
       "(16726, 22015, 58595)"
      ]
     },
     "execution_count": 5,
     "metadata": {},
     "output_type": "execute_result"
    }
   ],
   "source": [
    "len(user_set), len(project_set), len(edges)"
   ]
  },
  {
   "cell_type": "code",
   "execution_count": 6,
   "metadata": {
    "collapsed": false
   },
   "outputs": [
    {
     "data": {
      "text/plain": [
       "(16726, 22015, '9999 77037')"
      ]
     },
     "execution_count": 6,
     "metadata": {},
     "output_type": "execute_result"
    }
   ],
   "source": [
    "max(user_set), max(project_set), max(edges)"
   ]
  },
  {
   "cell_type": "code",
   "execution_count": 7,
   "metadata": {
    "collapsed": true
   },
   "outputs": [],
   "source": [
    "FOUT = open('train.in', 'w')\n",
    "for line in edges:\n",
    "    FOUT.write(line + '\\n')\n",
    "FOUT.close()"
   ]
  },
  {
   "cell_type": "code",
   "execution_count": 8,
   "metadata": {
    "collapsed": false
   },
   "outputs": [
    {
     "name": "stdout",
     "output_type": "stream",
     "text": [
      "4092 71904\r\n",
      "4092 71905\r\n",
      "4092 71903\r\n",
      "5477 68397\r\n",
      "212 58762\r\n",
      "212 58763\r\n",
      "212 58761\r\n",
      "6771 67950\r\n",
      "9113 59932\r\n",
      "7280 57365\r\n"
     ]
    }
   ],
   "source": [
    "! tail train.in"
   ]
  },
  {
   "cell_type": "code",
   "execution_count": null,
   "metadata": {
    "collapsed": true
   },
   "outputs": [],
   "source": []
  }
 ],
 "metadata": {
  "kernelspec": {
   "display_name": "Python 2",
   "language": "python",
   "name": "python2"
  },
  "language_info": {
   "codemirror_mode": {
    "name": "ipython",
    "version": 2
   },
   "file_extension": ".py",
   "mimetype": "text/x-python",
   "name": "python",
   "nbconvert_exporter": "python",
   "pygments_lexer": "ipython2",
   "version": "2.7.6"
  }
 },
 "nbformat": 4,
 "nbformat_minor": 1
}
