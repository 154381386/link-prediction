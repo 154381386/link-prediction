{
 "cells": [
  {
   "cell_type": "markdown",
   "metadata": {
    "deletable": true,
    "editable": true
   },
   "source": [
    "# Make graph"
   ]
  },
  {
   "cell_type": "code",
   "execution_count": 32,
   "metadata": {
    "collapsed": true,
    "deletable": true,
    "editable": true
   },
   "outputs": [],
   "source": [
    "file = \"src/cond-mat.hg2\""
   ]
  },
  {
   "cell_type": "code",
   "execution_count": 33,
   "metadata": {
    "collapsed": true,
    "deletable": true,
    "editable": true
   },
   "outputs": [],
   "source": [
    "FIN = open(file, \"r\")"
   ]
  },
  {
   "cell_type": "code",
   "execution_count": 34,
   "metadata": {
    "collapsed": false,
    "deletable": true,
    "editable": true
   },
   "outputs": [],
   "source": [
    "PERIOD1 = 1995\n",
    "PERIOD2 = 1996\n",
    "PERIOD3 = 1997\n",
    "PERIOD4 = 1998\n",
    "PERIOD5 = 1999\n",
    "PERIOD6 = 2000"
   ]
  },
  {
   "cell_type": "code",
   "execution_count": 35,
   "metadata": {
    "collapsed": true,
    "deletable": true,
    "editable": true
   },
   "outputs": [],
   "source": [
    "from datetime import tzinfo, timedelta, datetime\n",
    "\n",
    "ZERO = timedelta(0)\n",
    "HOUR = timedelta(hours=1)\n",
    "\n",
    "# A UTC class.\n",
    "\n",
    "class UTC(tzinfo):\n",
    "    \"\"\"UTC\"\"\"\n",
    "\n",
    "    def utcoffset(self, dt):\n",
    "        return ZERO\n",
    "\n",
    "    def tzname(self, dt):\n",
    "        return \"UTC\"\n",
    "\n",
    "    def dst(self, dt):\n",
    "        return ZERO\n",
    "\n",
    "utc = UTC()"
   ]
  },
  {
   "cell_type": "code",
   "execution_count": 36,
   "metadata": {
    "collapsed": false,
    "deletable": true,
    "editable": true
   },
   "outputs": [],
   "source": [
    "reading_edges = False\n",
    "import re, datetime\n",
    "\n",
    "train_set = set()\n",
    "test_set = set()\n",
    "\n",
    "def read_edge(line, train_set, test_set):\n",
    "    m = re.search(r\"(\\d+) (\\d+) \\[ (.*) \\]\", line)\n",
    "    time = int(m.group(1))\n",
    "    edgeCount = int(m.group(2))\n",
    "    edgeList = m.group(3).split()\n",
    "    is_train = (PERIOD1 <= datetime.datetime.fromtimestamp(time, utc).year <= PERIOD5)\n",
    "    is_test = (datetime.datetime.fromtimestamp(time, utc).year == PERIOD6)     \n",
    "    \n",
    "    for i in range(edgeCount):\n",
    "        for j in range(i + 1, edgeCount):\n",
    "            if is_train:\n",
    "                train_set.add( edgeList[i] + \" \" + edgeList[j])\n",
    "                train_set.add( edgeList[j] + \" \" + edgeList[i])\n",
    "            if is_test:\n",
    "                test_set.add( edgeList[i] + \" \" + edgeList[j])\n",
    "                test_set.add( edgeList[j] + \" \" + edgeList[i])\n",
    "\n",
    "for line in FIN:\n",
    "    if reading_edges:\n",
    "        read_edge(line, train_set, test_set)\n",
    "    if \"Hyperedges\" in line:\n",
    "        reading_edges = True"
   ]
  },
  {
   "cell_type": "code",
   "execution_count": 37,
   "metadata": {
    "collapsed": false,
    "deletable": true,
    "editable": true
   },
   "outputs": [
    {
     "data": {
      "text/plain": [
       "(80646, 41032)"
      ]
     },
     "execution_count": 37,
     "metadata": {},
     "output_type": "execute_result"
    }
   ],
   "source": [
    "len(train_set), len(test_set)"
   ]
  },
  {
   "cell_type": "code",
   "execution_count": 40,
   "metadata": {
    "collapsed": false
   },
   "outputs": [
    {
     "data": {
      "text/plain": [
       "(40325, 20518)"
      ]
     },
     "execution_count": 40,
     "metadata": {},
     "output_type": "execute_result"
    }
   ],
   "source": [
    "train_set_undirected = set()\n",
    "test_set_undirected = set()\n",
    "def make_undirected(s, s_undirected):\n",
    "    for line in s:\n",
    "        u, w = line.split()\n",
    "        line_reverted = w + ' ' + u\n",
    "        if line not in s_undirected and line_reverted not in s_undirected:\n",
    "            s_undirected.add(line)\n",
    "\n",
    "make_undirected(train_set, train_set_undirected)\n",
    "make_undirected(test_set, test_set_undirected)\n",
    "\n",
    "len(train_set_undirected), len(test_set_undirected)"
   ]
  },
  {
   "cell_type": "code",
   "execution_count": 38,
   "metadata": {
    "collapsed": true,
    "deletable": true,
    "editable": true
   },
   "outputs": [],
   "source": [
    "fout_train = open('train.in', 'w')\n",
    "for line in train_set:\n",
    "    fout_train.write(line + '\\n')\n",
    "fout_train.close()\n",
    "\n",
    "fout_test = open('test.out', 'w')\n",
    "for line in test_set:\n",
    "    fout_test.write(line + '\\n')\n",
    "fout_test.close()"
   ]
  },
  {
   "cell_type": "code",
   "execution_count": null,
   "metadata": {
    "collapsed": true,
    "deletable": true,
    "editable": true
   },
   "outputs": [],
   "source": []
  }
 ],
 "metadata": {
  "kernelspec": {
   "display_name": "Python 2",
   "language": "python",
   "name": "python2"
  },
  "language_info": {
   "codemirror_mode": {
    "name": "ipython",
    "version": 2
   },
   "file_extension": ".py",
   "mimetype": "text/x-python",
   "name": "python",
   "nbconvert_exporter": "python",
   "pygments_lexer": "ipython2",
   "version": "2.7.12"
  }
 },
 "nbformat": 4,
 "nbformat_minor": 2
}
