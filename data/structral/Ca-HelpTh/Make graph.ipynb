{
 "cells": [
  {
   "cell_type": "markdown",
   "metadata": {
    "deletable": true,
    "editable": true
   },
   "source": [
    "# Make graph"
   ]
  },
  {
   "cell_type": "code",
   "execution_count": 19,
   "metadata": {
    "collapsed": true,
    "deletable": true,
    "editable": true
   },
   "outputs": [],
   "source": [
    "file = \"CA-HepTh.txt\"\n",
    "FIN = open(file, 'r')"
   ]
  },
  {
   "cell_type": "code",
   "execution_count": 20,
   "metadata": {
    "collapsed": false,
    "deletable": true,
    "editable": true
   },
   "outputs": [
    {
     "name": "stdout",
     "output_type": "stream",
     "text": [
      "# Directed graph (each unordered pair of nodes is saved once): CA-HepTh.txt \r",
      "\r\n",
      "# Collaboration network of Arxiv High Energy Physics Theory category (there is an edge if authors coauthored at least one paper)\r",
      "\r\n",
      "# Nodes: 9877 Edges: 51971\r",
      "\r\n",
      "# FromNodeId\tToNodeId\r",
      "\r\n",
      "24325\t24394\r",
      "\r\n",
      "24325\t40517\r",
      "\r\n",
      "24325\t58507\r",
      "\r\n",
      "24394\t3737\r",
      "\r\n",
      "24394\t3905\r",
      "\r\n",
      "24394\t7237\r",
      "\r\n"
     ]
    }
   ],
   "source": [
    "! head CA-HepTh.txt"
   ]
  },
  {
   "cell_type": "code",
   "execution_count": 21,
   "metadata": {
    "collapsed": true,
    "deletable": true,
    "editable": true
   },
   "outputs": [],
   "source": [
    "train_set = set()\n",
    "nodes = set()\n",
    "for line in FIN:\n",
    "    if '#' != line[0] and line:\n",
    "        u, w = line.strip().split()\n",
    "        if u != w:\n",
    "            train_set.add(u + ' ' + w)\n",
    "            nodes.add(u)\n",
    "            nodes.add(w)"
   ]
  },
  {
   "cell_type": "code",
   "execution_count": 22,
   "metadata": {
    "collapsed": false,
    "deletable": true,
    "editable": true
   },
   "outputs": [
    {
     "data": {
      "text/plain": [
       "(51946, 9875)"
      ]
     },
     "execution_count": 22,
     "metadata": {},
     "output_type": "execute_result"
    }
   ],
   "source": [
    "len(train_set), len(nodes)"
   ]
  },
  {
   "cell_type": "code",
   "execution_count": 23,
   "metadata": {
    "collapsed": true
   },
   "outputs": [],
   "source": [
    "nodes_map = {}\n",
    "index = 1\n",
    "for node in nodes:\n",
    "    nodes_map[node] = index\n",
    "    index += 1"
   ]
  },
  {
   "cell_type": "code",
   "execution_count": 24,
   "metadata": {
    "collapsed": false,
    "deletable": true,
    "editable": true
   },
   "outputs": [],
   "source": [
    "fout_train = open('train.in', 'w')\n",
    "for line in train_set:\n",
    "    u, w = line.strip().split()\n",
    "    fout_train.write(str(nodes_map[u]) + ' ' + str(nodes_map[w]) + '\\n')\n",
    "fout_train.close()"
   ]
  },
  {
   "cell_type": "code",
   "execution_count": 25,
   "metadata": {
    "collapsed": false,
    "deletable": true,
    "editable": true
   },
   "outputs": [
    {
     "name": "stdout",
     "output_type": "stream",
     "text": [
      "1652 7247\r\n",
      "1592 9321\r\n",
      "1658 8699\r\n",
      "6322 6528\r\n",
      "1275 952\r\n",
      "2560 910\r\n",
      "5338 6430\r\n",
      "134 7443\r\n",
      "9703 188\r\n",
      "6042 4432\r\n"
     ]
    }
   ],
   "source": [
    "!head train.in"
   ]
  },
  {
   "cell_type": "code",
   "execution_count": null,
   "metadata": {
    "collapsed": true
   },
   "outputs": [],
   "source": []
  }
 ],
 "metadata": {
  "kernelspec": {
   "display_name": "Python 2",
   "language": "python",
   "name": "python2"
  },
  "language_info": {
   "codemirror_mode": {
    "name": "ipython",
    "version": 2
   },
   "file_extension": ".py",
   "mimetype": "text/x-python",
   "name": "python",
   "nbconvert_exporter": "python",
   "pygments_lexer": "ipython2",
   "version": "2.7.12"
  }
 },
 "nbformat": 4,
 "nbformat_minor": 2
}
