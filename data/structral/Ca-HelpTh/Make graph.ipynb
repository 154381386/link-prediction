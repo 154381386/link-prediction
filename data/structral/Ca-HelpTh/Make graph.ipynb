{
 "cells": [
  {
   "cell_type": "markdown",
   "metadata": {},
   "source": [
    "# Make graph"
   ]
  },
  {
   "cell_type": "code",
   "execution_count": 1,
   "metadata": {
    "collapsed": true
   },
   "outputs": [],
   "source": [
    "file = \"CA-HepTh.txt\"\n",
    "FIN = open(file, 'r')"
   ]
  },
  {
   "cell_type": "code",
   "execution_count": 2,
   "metadata": {
    "collapsed": false
   },
   "outputs": [
    {
     "name": "stdout",
     "output_type": "stream",
     "text": [
      "# Directed graph (each unordered pair of nodes is saved once): CA-HepTh.txt \r",
      "\r\n",
      "# Collaboration network of Arxiv High Energy Physics Theory category (there is an edge if authors coauthored at least one paper)\r",
      "\r\n",
      "# Nodes: 9877 Edges: 51971\r",
      "\r\n",
      "# FromNodeId\tToNodeId\r",
      "\r\n",
      "24325\t24394\r",
      "\r\n",
      "24325\t40517\r",
      "\r\n",
      "24325\t58507\r",
      "\r\n",
      "24394\t3737\r",
      "\r\n",
      "24394\t3905\r",
      "\r\n",
      "24394\t7237\r",
      "\r\n"
     ]
    }
   ],
   "source": [
    "! head CA-HepTh.txt"
   ]
  },
  {
   "cell_type": "code",
   "execution_count": 3,
   "metadata": {
    "collapsed": true
   },
   "outputs": [],
   "source": [
    "train_set = set()\n",
    "for line in FIN:\n",
    "    if '#' != line[0] and line:\n",
    "        u, w = line.strip().split()\n",
    "        train_set.add(u + ' ' + w)"
   ]
  },
  {
   "cell_type": "code",
   "execution_count": 4,
   "metadata": {
    "collapsed": false
   },
   "outputs": [
    {
     "data": {
      "text/plain": [
       "51971"
      ]
     },
     "execution_count": 4,
     "metadata": {},
     "output_type": "execute_result"
    }
   ],
   "source": [
    "len(train_set)"
   ]
  },
  {
   "cell_type": "code",
   "execution_count": 5,
   "metadata": {
    "collapsed": true
   },
   "outputs": [],
   "source": [
    "fout_train = open('train.in', 'w')\n",
    "for line in train_set:\n",
    "    fout_train.write(line + '\\n')\n",
    "fout_train.close()"
   ]
  },
  {
   "cell_type": "code",
   "execution_count": null,
   "metadata": {
    "collapsed": true
   },
   "outputs": [],
   "source": []
  }
 ],
 "metadata": {
  "kernelspec": {
   "display_name": "Python 2",
   "language": "python",
   "name": "python2"
  },
  "language_info": {
   "codemirror_mode": {
    "name": "ipython",
    "version": 2
   },
   "file_extension": ".py",
   "mimetype": "text/x-python",
   "name": "python",
   "nbconvert_exporter": "python",
   "pygments_lexer": "ipython2",
   "version": "2.7.12"
  }
 },
 "nbformat": 4,
 "nbformat_minor": 2
}
