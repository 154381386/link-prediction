{
 "cells": [
  {
   "cell_type": "markdown",
   "metadata": {},
   "source": [
    "# Make graph"
   ]
  },
  {
   "cell_type": "code",
   "execution_count": 1,
   "metadata": {
    "collapsed": true
   },
   "outputs": [],
   "source": [
    "file = 'MIDB_4.01.csv'"
   ]
  },
  {
   "cell_type": "code",
   "execution_count": 70,
   "metadata": {
    "collapsed": false
   },
   "outputs": [
    {
     "name": "stdout",
     "output_type": "stream",
     "text": [
      "4595,70903,MYA,775,27,4,2009,27,4,2009,1,0,0,0,0,0,16,4,1,4.01\r",
      "\r\n",
      "4595,70903,THI,800,27,4,2009,27,4,2009,0,0,0,0,0,0,0,1,1,4.01\r",
      "\r\n",
      "4596,70904,MYA,775,8,10,2009,29,12,2009,1,1,2,0,0,0,11,3,1,4.01\r",
      "\r\n",
      "4596,70904,BNG,771,8,10,2009,29,12,2009,0,0,0,0,0,0,11,3,1,4.01\r",
      "\r\n",
      "4597,70905,IRN,630,23,10,2009,23,10,2009,1,0,0,0,0,0,11,3,1,4.01\r",
      "\r\n",
      "4597,70905,PAK,770,23,10,2009,23,10,2009,0,0,0,0,0,0,0,1,1,4.01\r",
      "\r\n",
      "4598,71001,USA,2,27,9,2010,26,11,2010,1,1,2,0,0,0,17,4,1,4.01\r",
      "\r\n",
      "4598,71001,PAK,770,27,9,2010,26,11,2010,0,1,2,0,1,3,17,4,1,4.01\r",
      "\r\n",
      "4599,71002,IRN,630,12,10,2010,3,12,2010,1,0,0,0,0,0,15,4,1,4.01\r",
      "\r\n",
      "4599,71002,AFG,700,12,10,2010,3,12,2010,0,0,0,0,0,0,15,4,1,4.01\r",
      "\r\n"
     ]
    }
   ],
   "source": [
    "! tail MIDB_4.01.csv "
   ]
  },
  {
   "cell_type": "code",
   "execution_count": 10,
   "metadata": {
    "collapsed": true
   },
   "outputs": [],
   "source": [
    "def read_line(line):\n",
    "    line = line.strip().split(',')\n",
    "    conflit = {}\n",
    "    conflit['DispNum3'] = line[0]\n",
    "    conflit['DispNum4'] = line[1]\n",
    "    conflit['StAbb'] = line[2]\n",
    "    conflit['ccode'] = line[3]\n",
    "    conflit['StDay'] = line[4]\n",
    "    conflit['StMon'] = line[5]\n",
    "    conflit['StYear'] = line[6]\n",
    "    conflit['EndDay'] = line[7]\n",
    "    conflit['EndMon'] = line[8]\n",
    "    conflit['EndYear'] = line[9]\n",
    "    conflit['SideA'] = line[10]\n",
    "    conflit['RevState'] = line[11]\n",
    "    conflit['RevType1'] = line[12]\n",
    "    conflit['RevType2'] = line[13]\n",
    "    conflit['Fatality'] = line[14]\n",
    "    conflit['FataPre'] = line[15]\n",
    "    conflit['HiAct'] = line[16]\n",
    "    conflit['HostLev'] = line[17]\n",
    "    conflit['Orig'] = line[18]\n",
    "    conflit['Version'] = line[19]\n",
    "    return conflit"
   ]
  },
  {
   "cell_type": "code",
   "execution_count": 64,
   "metadata": {
    "collapsed": false
   },
   "outputs": [],
   "source": [
    "FIN = open(file, 'r')\n",
    "FIN.readline()\n",
    "node_set = set()\n",
    "edge_dict = {}\n",
    "for line in FIN:\n",
    "    conflit = read_line(line)\n",
    "    if int(conflit['StYear']) < 1990 or int(conflit['StYear']) > 2000:\n",
    "        continue\n",
    "    if int(conflit['EndYear']) < 1990 or int(conflit['EndYear']) > 2000:\n",
    "        continue\n",
    "    node_set.add(conflit[\"ccode\"])\n",
    "    edge_id = conflit[\"DispNum3\"]\n",
    "    if edge_id not in edge_dict:\n",
    "        edge_dict[edge_id] = [[], []]\n",
    "    edge_dict[edge_id][int(conflit['SideA'])].append(conflit['ccode'])"
   ]
  },
  {
   "cell_type": "code",
   "execution_count": 65,
   "metadata": {
    "collapsed": false
   },
   "outputs": [
    {
     "data": {
      "text/plain": [
       "(139, 311)"
      ]
     },
     "execution_count": 65,
     "metadata": {},
     "output_type": "execute_result"
    }
   ],
   "source": [
    "len(node_set), len(edge_dict)"
   ]
  },
  {
   "cell_type": "code",
   "execution_count": 68,
   "metadata": {
    "collapsed": false
   },
   "outputs": [],
   "source": [
    "node_set_from_edges = set()\n",
    "edge_set = set()\n",
    "for key in edge_dict:\n",
    "    sideA, sideB = edge_dict[key]\n",
    "    for u in sideA:\n",
    "        for w in sideB:\n",
    "            edge = u + ' ' + w\n",
    "            edge_r = w + ' ' + u\n",
    "            if edge not in edge_set and edge_r not in edge_set:\n",
    "                edge_set.add(edge)\n",
    "                node_set_from_edges.add(u)\n",
    "                node_set_from_edges.add(w) "
   ]
  },
  {
   "cell_type": "code",
   "execution_count": 69,
   "metadata": {
    "collapsed": false
   },
   "outputs": [
    {
     "data": {
      "text/plain": [
       "(259, 139)"
      ]
     },
     "execution_count": 69,
     "metadata": {},
     "output_type": "execute_result"
    }
   ],
   "source": [
    "len(edge_set), len(node_set_from_edges)"
   ]
  },
  {
   "cell_type": "code",
   "execution_count": null,
   "metadata": {
    "collapsed": true
   },
   "outputs": [],
   "source": []
  }
 ],
 "metadata": {
  "kernelspec": {
   "display_name": "Python 2",
   "language": "python",
   "name": "python2"
  },
  "language_info": {
   "codemirror_mode": {
    "name": "ipython",
    "version": 2
   },
   "file_extension": ".py",
   "mimetype": "text/x-python",
   "name": "python",
   "nbconvert_exporter": "python",
   "pygments_lexer": "ipython2",
   "version": "2.7.12"
  }
 },
 "nbformat": 4,
 "nbformat_minor": 2
}
