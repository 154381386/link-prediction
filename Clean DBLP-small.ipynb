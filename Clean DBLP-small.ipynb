{
 "cells": [
  {
   "cell_type": "markdown",
   "metadata": {},
   "source": [
    "# Вырезка нужных годов 2010-2015"
   ]
  },
  {
   "cell_type": "code",
   "execution_count": 1,
   "metadata": {
    "collapsed": true
   },
   "outputs": [],
   "source": [
    "START_YEAR = 2010\n",
    "END_YEAR = 2015\n",
    "BORDER_YEAR = 2014"
   ]
  },
  {
   "cell_type": "code",
   "execution_count": 8,
   "metadata": {
    "collapsed": false
   },
   "outputs": [],
   "source": [
    "fin = open('dblp.xml', 'r')\n",
    "fout_train = open('train.xml', 'w')\n",
    "fout_test = open('test.xml', 'w')\n",
    "\n",
    "article = []\n",
    "is_train = False\n",
    "is_test = False\n",
    "\n",
    "for line in fin:\n",
    "    if '<article ' in line:\n",
    "        article = []\n",
    "        is_train = False\n",
    "        is_test = False\n",
    "\n",
    "    article.append(line)\n",
    "    try:\n",
    "        if '<year>' in line:\n",
    "            year = line[line.find(\"<year>\") + 6:line.find(\"</year>\")]\n",
    "            if START_YEAR <= int(year) <= BORDER_YEAR:\n",
    "                is_train = True\n",
    "            if BORDER_YEAR < int(year) <= END_YEAR:\n",
    "                is_test = True\n",
    "    except:\n",
    "        print line\n",
    "        break\n",
    "    \n",
    "    if '</article>' in line:\n",
    "        if is_train:\n",
    "            fout_train.write('\\n'.join(article))\n",
    "        if is_test:\n",
    "            fout_test.write('\\n'.join(article))\n",
    "\n",
    "fout_train.close()\n",
    "fout_test.close()\n",
    "fin.close()"
   ]
  },
  {
   "cell_type": "code",
   "execution_count": 9,
   "metadata": {
    "collapsed": false
   },
   "outputs": [
    {
     "name": "stdout",
     "output_type": "stream",
     "text": [
      "481128\n",
      "113351\n"
     ]
    }
   ],
   "source": [
    "fin_train = open('train.xml', 'r')\n",
    "fin_test = open('test.xml', 'r')\n",
    "\n",
    "print fin_train.read().count('<article ')\n",
    "print fin_test.read().count('<article ')"
   ]
  },
  {
   "cell_type": "markdown",
   "metadata": {},
   "source": [
    "# Переводим в граф"
   ]
  },
  {
   "cell_type": "code",
   "execution_count": 10,
   "metadata": {
    "collapsed": true
   },
   "outputs": [],
   "source": [
    "Nodes = {}\n",
    "next_free_id = 0"
   ]
  },
  {
   "cell_type": "code",
   "execution_count": 14,
   "metadata": {
    "collapsed": false
   },
   "outputs": [],
   "source": [
    "fin_train = open('train.xml', 'r')\n",
    "\n",
    "for line in fin_train:\n",
    "    if \"<author>\" in line:\n",
    "        author = line[line.find(\"<author>\") + 8:line.find(\"</author>\")]\n",
    "        if author not in Nodes:\n",
    "            Nodes[author] = next_free_id\n",
    "            next_free_id += 1\n",
    "    if line.count('<author>') > 1:\n",
    "        print 'Err'\n",
    "fin_train.close()"
   ]
  },
  {
   "cell_type": "code",
   "execution_count": 15,
   "metadata": {
    "collapsed": false
   },
   "outputs": [
    {
     "data": {
      "text/plain": [
       "546295"
      ]
     },
     "execution_count": 15,
     "metadata": {},
     "output_type": "execute_result"
    }
   ],
   "source": [
    "next_free_id"
   ]
  },
  {
   "cell_type": "code",
   "execution_count": 17,
   "metadata": {
    "collapsed": false
   },
   "outputs": [],
   "source": [
    "def convert_graph(fin, fout, Nodes):\n",
    "    article = []\n",
    "    authors = []\n",
    "    edges = 0\n",
    "    for line in fin:\n",
    "        if '<article ' in line:\n",
    "            article = []\n",
    "            authors = []\n",
    "\n",
    "        article.append(line)\n",
    "        if \"<author>\" in line:\n",
    "            author = line[line.find(\"<author>\") + 8:line.find(\"</author>\")]\n",
    "            if author in Nodes:\n",
    "                authors.append(Nodes[author])\n",
    "\n",
    "        if '</article>' in line:\n",
    "            for i in range(len(authors)):\n",
    "                for j in range(i+1, len(authors)):\n",
    "                    fout.write(str(authors[i]) + ' ' + str(authors[j]) + '\\n')\n",
    "                    edges += 1\n",
    "    print 'edges', edges"
   ]
  },
  {
   "cell_type": "code",
   "execution_count": 18,
   "metadata": {
    "collapsed": false
   },
   "outputs": [
    {
     "name": "stdout",
     "output_type": "stream",
     "text": [
      "edges 2351026\n"
     ]
    }
   ],
   "source": [
    "fin_train = open('train.xml', 'r')\n",
    "fout_train = open('train.in', 'w')\n",
    "convert_graph(fin_train, fout_train, Nodes)\n",
    "fout_train.close()\n",
    "fin.close()"
   ]
  },
  {
   "cell_type": "code",
   "execution_count": 19,
   "metadata": {
    "collapsed": false
   },
   "outputs": [
    {
     "name": "stdout",
     "output_type": "stream",
     "text": [
      "edges 370418\n"
     ]
    }
   ],
   "source": [
    "fin_test = open('test.xml', 'r')\n",
    "fout_test = open('test.out', 'w')\n",
    "convert_graph(fin_test, fout_test, Nodes)\n",
    "fin_test.close()\n",
    "fout_test.close()"
   ]
  },
  {
   "cell_type": "markdown",
   "metadata": {},
   "source": [
    "# Подсчет новых ребер"
   ]
  },
  {
   "cell_type": "code",
   "execution_count": 20,
   "metadata": {
    "collapsed": true
   },
   "outputs": [],
   "source": [
    "fin_train = open('train.in', 'r')\n",
    "train_edges = set()\n",
    "for line in fin_train:\n",
    "    line = line.strip()\n",
    "    train_edges.add(line)\n",
    "fin_train.close()"
   ]
  },
  {
   "cell_type": "code",
   "execution_count": 23,
   "metadata": {
    "collapsed": false
   },
   "outputs": [
    {
     "name": "stdout",
     "output_type": "stream",
     "text": [
      "number_new_edges 156306\n"
     ]
    }
   ],
   "source": [
    "fin_test = open('test.out', 'r')\n",
    "number_new_edges = 0\n",
    "for line in fin_test:\n",
    "    u, w = line.strip().split()\n",
    "    if (u + ' ' + w not in train_edges) and (\n",
    "        w + ' ' + u not in train_edges):\n",
    "        number_new_edges += 1\n",
    "fin_test.close()\n",
    "print 'number_new_edges', number_new_edges"
   ]
  },
  {
   "cell_type": "code",
   "execution_count": null,
   "metadata": {
    "collapsed": true
   },
   "outputs": [],
   "source": []
  }
 ],
 "metadata": {
  "kernelspec": {
   "display_name": "Python 2",
   "language": "python",
   "name": "python2"
  },
  "language_info": {
   "codemirror_mode": {
    "name": "ipython",
    "version": 2
   },
   "file_extension": ".py",
   "mimetype": "text/x-python",
   "name": "python",
   "nbconvert_exporter": "python",
   "pygments_lexer": "ipython2",
   "version": "2.7.6"
  }
 },
 "nbformat": 4,
 "nbformat_minor": 0
}
