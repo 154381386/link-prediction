{
 "cells": [
  {
   "cell_type": "markdown",
   "metadata": {
    "deletable": true,
    "editable": true
   },
   "source": [
    "# New file"
   ]
  },
  {
   "cell_type": "code",
   "execution_count": 4,
   "metadata": {
    "collapsed": true,
    "deletable": true,
    "editable": true
   },
   "outputs": [],
   "source": [
    "file = 'data/structral/facebook/train.in'\n",
    "N = 30"
   ]
  },
  {
   "cell_type": "code",
   "execution_count": 5,
   "metadata": {
    "collapsed": true,
    "deletable": true,
    "editable": true
   },
   "outputs": [],
   "source": [
    "import tools"
   ]
  },
  {
   "cell_type": "code",
   "execution_count": 6,
   "metadata": {
    "collapsed": true,
    "deletable": true,
    "editable": true
   },
   "outputs": [],
   "source": [
    "train_set, nodes, poss_set, neg_set = tools.sample_structural(file, N=0, sparse=True)"
   ]
  },
  {
   "cell_type": "code",
   "execution_count": 7,
   "metadata": {
    "collapsed": false,
    "deletable": true,
    "editable": true
   },
   "outputs": [
    {
     "data": {
      "text/plain": [
       "<generator object <genexpr> at 0x7f0759e7b140>"
      ]
     },
     "execution_count": 7,
     "metadata": {},
     "output_type": "execute_result"
    }
   ],
   "source": [
    "from graph_tool.all import *\n",
    "g = Graph(directed=False)\n",
    "g.add_vertex(max(nodes) + 1)"
   ]
  },
  {
   "cell_type": "code",
   "execution_count": 8,
   "metadata": {
    "collapsed": false,
    "deletable": true,
    "editable": true
   },
   "outputs": [
    {
     "name": "stdout",
     "output_type": "stream",
     "text": [
      "1.0\n"
     ]
    }
   ],
   "source": [
    "a = 0\n",
    "for edge in train_set:\n",
    "    if edge not in poss_set:\n",
    "        a += 1\n",
    "        u, w = map(int, edge.split())\n",
    "        g.add_edge(g.vertex(u), g.vertex(w))\n",
    "print 1.0 * a / len(train_set)"
   ]
  },
  {
   "cell_type": "code",
   "execution_count": 9,
   "metadata": {
    "collapsed": false,
    "deletable": true,
    "editable": true
   },
   "outputs": [],
   "source": [
    "fout = open('data/structral/facebook/train.dic', 'w')\n",
    "\n",
    "for e in g.edges():\n",
    "    if e.source().out_degree() < e.target().out_degree():\n",
    "        fout.write(str(e.source()) + ' ' + str(e.target()) + '\\n')\n",
    "    else:\n",
    "        fout.write(str(e.target()) + ' ' + str(e.source()) + '\\n')\n",
    "fout.close()"
   ]
  },
  {
   "cell_type": "markdown",
   "metadata": {
    "deletable": true,
    "editable": true
   },
   "source": [
    "# Experiment "
   ]
  },
  {
   "cell_type": "code",
   "execution_count": 1,
   "metadata": {
    "collapsed": true,
    "deletable": true,
    "editable": true
   },
   "outputs": [],
   "source": [
    "file = 'data/bipartite/movielens/train.in'"
   ]
  },
  {
   "cell_type": "code",
   "execution_count": 2,
   "metadata": {
    "collapsed": true,
    "deletable": true,
    "editable": true
   },
   "outputs": [],
   "source": [
    "from cross_validation import cross_validation"
   ]
  },
  {
   "cell_type": "code",
   "execution_count": 3,
   "metadata": {
    "collapsed": false,
    "deletable": true,
    "editable": true
   },
   "outputs": [
    {
     "name": "stdout",
     "output_type": "stream",
     "text": [
      "('calculate_auc', 1000209, 9746, 300062, 300062)\n",
      "('real number edges', 700147)\n",
      "('len X', 600124)\n",
      "('len Y', 600124)\n",
      "('sum Y', 300062)\n",
      "('describe', 133805.16685551652, 1.0)\n",
      "('describe', 16690.445221320926, 0.0)\n",
      "('describe', 75247.806038418727)\n",
      "('calculate_auc', 1000209, 9746, 300062, 300062)\n",
      "('real number edges', 700147)\n",
      "('len X', 600124)\n",
      "('len Y', 600124)\n",
      "('sum Y', 300062)\n",
      "('describe', 133880.92542207942, 1.0)\n",
      "('describe', 16629.442505215589, 0.0)\n",
      "('describe', 75255.18396364752)\n",
      "('calculate_auc', 1000209, 9746, 300062, 300062)\n",
      "('real number edges', 700147)\n",
      "('len X', 600124)\n",
      "('len Y', 600124)\n",
      "('sum Y', 300062)\n",
      "('describe', 133748.27557971352, 1.0)\n",
      "('describe', 16590.999400123976, 0.0)\n",
      "('describe', 75169.63748991875)\n",
      "PA : 0.902986 (+/- 0.000674)\n",
      "Adamic-Adar : 0.500000 (+/- 0.000000)\n",
      "sfdp-bipartite : 0.887853 (+/- 0.000751)\n",
      "NMF-10 : 0.925400 (+/- 0.000818)\n",
      "svds-30 : 0.941241 (+/- 0.000860)\n",
      "sfdp-default : 0.840325 (+/- 0.003172)\n",
      "NMF-30 : 0.940927 (+/- 0.000837)\n",
      "svds-10 : 0.927629 (+/- 0.000745)\n",
      "CN : 0.500000 (+/- 0.000000)\n"
     ]
    }
   ],
   "source": [
    "cross_validation(file, N=30, k=3, sparse=True, bipartite=True)"
   ]
  },
  {
   "cell_type": "code",
   "execution_count": null,
   "metadata": {
    "collapsed": true,
    "deletable": true,
    "editable": true
   },
   "outputs": [],
   "source": []
  }
 ],
 "metadata": {
  "kernelspec": {
   "display_name": "Python 2",
   "language": "python",
   "name": "python2"
  },
  "language_info": {
   "codemirror_mode": {
    "name": "ipython",
    "version": 2
   },
   "file_extension": ".py",
   "mimetype": "text/x-python",
   "name": "python",
   "nbconvert_exporter": "python",
   "pygments_lexer": "ipython2",
   "version": "2.7.12"
  }
 },
 "nbformat": 4,
 "nbformat_minor": 2
}
