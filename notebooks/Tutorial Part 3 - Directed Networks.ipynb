{
 "cells": [
  {
   "cell_type": "markdown",
   "metadata": {},
   "source": [
    "# Load dataset"
   ]
  },
  {
   "cell_type": "code",
   "execution_count": 1,
   "metadata": {
    "collapsed": false,
    "deletable": true,
    "editable": true
   },
   "outputs": [],
   "source": [
    "import tools"
   ]
  },
  {
   "cell_type": "code",
   "execution_count": 2,
   "metadata": {
    "collapsed": false,
    "deletable": true,
    "editable": true
   },
   "outputs": [],
   "source": [
    "edges, nodes, poss_set, neg_set = tools.sample_structural(\n",
    "    '../datasets/directed/ego-twitter/train.in', N=10, directed=True)"
   ]
  },
  {
   "cell_type": "markdown",
   "metadata": {},
   "source": [
    "# Make bipartite network"
   ]
  },
  {
   "cell_type": "code",
   "execution_count": 3,
   "metadata": {
    "collapsed": false,
    "deletable": true,
    "editable": true
   },
   "outputs": [
    {
     "data": {
      "text/plain": [
       "<generator object <genexpr> at 0x7f222cf45280>"
      ]
     },
     "execution_count": 3,
     "metadata": {},
     "output_type": "execute_result"
    }
   ],
   "source": [
    "from graph_tool.all import *\n",
    "g = Graph(directed=False)\n",
    "g.add_vertex(2*max(nodes) + 2)"
   ]
  },
  {
   "cell_type": "code",
   "execution_count": 4,
   "metadata": {
    "collapsed": false,
    "deletable": true,
    "editable": true
   },
   "outputs": [],
   "source": [
    "groups = g.new_vertex_property(\"int\")\n",
    "for u in g.vertices():\n",
    "    groups[u] = int(u) % 2\n",
    "    \n",
    "for edge in edges:\n",
    "    if edge not in poss_set:\n",
    "        u, w = map(int, edge.split())\n",
    "        g.add_edge(g.vertex(2*u), g.vertex(2*w + 1))"
   ]
  },
  {
   "cell_type": "code",
   "execution_count": null,
   "metadata": {
    "collapsed": false,
    "deletable": true,
    "editable": true
   },
   "outputs": [],
   "source": [
    "pos = sfdp_layout(g, max_iter=4)"
   ]
  },
  {
   "cell_type": "markdown",
   "metadata": {},
   "source": [
    "# Scores"
   ]
  },
  {
   "cell_type": "code",
   "execution_count": null,
   "metadata": {
    "collapsed": true,
    "deletable": true,
    "editable": true
   },
   "outputs": [],
   "source": [
    "from sklearn.metrics import roc_auc_score"
   ]
  },
  {
   "cell_type": "code",
   "execution_count": null,
   "metadata": {
    "collapsed": false,
    "deletable": true,
    "editable": true
   },
   "outputs": [],
   "source": [
    "features = tools.TopologicalFeatures(g, pos, directed=True)\n",
    "X, Y = tools.make_dataset(poss_set, neg_set, \n",
    "                    [features.dist])\n",
    "print('di-SFDP:', roc_auc_score(Y, X))"
   ]
  },
  {
   "cell_type": "code",
   "execution_count": null,
   "metadata": {
    "collapsed": false,
    "deletable": true,
    "editable": true
   },
   "outputs": [],
   "source": [
    "from sklearn.decomposition import NMF\n",
    "model = NMF(n_components=10, init='random', random_state=0)\n",
    "\n",
    "matrix = tools.make_sparse_matrix(train_set, nodes, poss_set, directed=True)\n",
    "\n",
    "features = tools.MFFeatures(model, matrix)\n",
    "X, Y = tools.make_dataset(poss_set, neg_set, \n",
    "                    [features.score])\n",
    "print(\"NMF:\", roc_auc_score(Y, X))"
   ]
  },
  {
   "cell_type": "code",
   "execution_count": null,
   "metadata": {
    "collapsed": false,
    "deletable": true,
    "editable": true
   },
   "outputs": [],
   "source": [
    "from scipy.sparse import linalg\n",
    "import numpy\n",
    "\n",
    "matrix = tools.make_sparse_matrix(edges, nodes, poss_set, directed=True)\n",
    "U, s, Vh = linalg.svds(matrix.asfptype(), k=30)\n",
    "\n",
    "def score(u, w):\n",
    "    return numpy.dot(U[u] * s, Vh.T[w])\n",
    "\n",
    "X, Y = tools.make_dataset(poss_set, neg_set, \n",
    "                    [score])\n",
    "print(\"svds:\", roc_auc_score(Y, X))"
   ]
  },
  {
   "cell_type": "markdown",
   "metadata": {
    "deletable": true,
    "editable": true
   },
   "source": [
    "# Cross-validation"
   ]
  },
  {
   "cell_type": "code",
   "execution_count": null,
   "metadata": {
    "collapsed": false,
    "deletable": true,
    "editable": true
   },
   "outputs": [
    {
     "name": "stdout",
     "output_type": "stream",
     "text": [
      "NMF-10 : 0.681783 (+/- 0.005706)\n",
      "svds-30 : 0.669102 (+/- 0.007080)\n",
      "PA : 0.500746 (+/- 0.004502)\n",
      "CN : 0.510429 (+/- 0.001466)\n",
      "Adamic-Adar : 0.510434 (+/- 0.001465)\n",
      "sfdp-directed : 0.758950 (+/- 0.039955)\n",
      "NMF-30 : 0.677939 (+/- 0.006048)\n",
      "svds-10 : 0.678128 (+/- 0.008806)\n",
      "sfdp-default : 0.717397 (+/- 0.006382)\n"
     ]
    }
   ],
   "source": [
    "import cross_validation\n",
    "\n",
    "cross_validation.cross_validation(\n",
    "    'data/directed/ego-twitter/train.in', N=30, k=10, directed=True, max_iter=25)"
   ]
  }
 ],
 "metadata": {
  "kernelspec": {
   "display_name": "Python 2",
   "language": "python",
   "name": "python2"
  },
  "language_info": {
   "codemirror_mode": {
    "name": "ipython",
    "version": 2
   },
   "file_extension": ".py",
   "mimetype": "text/x-python",
   "name": "python",
   "nbconvert_exporter": "python",
   "pygments_lexer": "ipython2",
   "version": "2.7.12"
  }
 },
 "nbformat": 4,
 "nbformat_minor": 1
}
